{
  "nbformat": 4,
  "nbformat_minor": 0,
  "metadata": {
    "kernelspec": {
      "display_name": "Python 3",
      "language": "python",
      "name": "python3"
    },
    "language_info": {
      "codemirror_mode": {
        "name": "ipython",
        "version": 3
      },
      "file_extension": ".py",
      "mimetype": "text/x-python",
      "name": "python",
      "nbconvert_exporter": "python",
      "pygments_lexer": "ipython3",
      "version": "3.7.6"
    },
    "papermill": {
      "duration": 18996.141054,
      "end_time": "2020-12-26T15:40:39.479784",
      "environment_variables": {},
      "exception": null,
      "input_path": "__notebook__.ipynb",
      "output_path": "__notebook__.ipynb",
      "parameters": {},
      "start_time": "2020-12-26T10:24:03.338730",
      "version": "2.1.0"
    },
    "colab": {
      "name": "Resnet PSO Parallel.ipynb",
      "provenance": [],
      "collapsed_sections": []
    },
    "accelerator": "GPU"
  },
  "cells": [
    {
      "cell_type": "markdown",
      "metadata": {
        "papermill": {
          "duration": 0.026322,
          "end_time": "2020-12-26T10:24:07.735170",
          "exception": false,
          "start_time": "2020-12-26T10:24:07.708848",
          "status": "completed"
        },
        "tags": [],
        "id": "Ohouy-UD_P2f"
      },
      "source": [
        "## Import Libraries"
      ]
    },
    {
      "cell_type": "code",
      "metadata": {
        "colab": {
          "base_uri": "https://localhost:8080/"
        },
        "id": "BDgzPngp_bhv",
        "outputId": "70045186-214e-4b3f-d760-6d3f73bbcf00"
      },
      "source": [
        "from google.colab import drive\n",
        "drive.mount('/content/drive')"
      ],
      "execution_count": null,
      "outputs": [
        {
          "output_type": "stream",
          "text": [
            "Drive already mounted at /content/drive; to attempt to forcibly remount, call drive.mount(\"/content/drive\", force_remount=True).\n"
          ],
          "name": "stdout"
        }
      ]
    },
    {
      "cell_type": "code",
      "metadata": {
        "papermill": {
          "duration": 17.349277,
          "end_time": "2020-12-26T15:40:21.388576",
          "exception": false,
          "start_time": "2020-12-26T15:40:04.039299",
          "status": "completed"
        },
        "tags": [],
        "id": "RG9RY_UN_P2x"
      },
      "source": [
        "local_number = 1\n",
        "receive_numbers = [2,3,4]\n",
        "iteration_per_communicate = 1\n",
        "add = '/content/drive/MyDrive/update/'"
      ],
      "execution_count": null,
      "outputs": []
    },
    {
      "cell_type": "code",
      "metadata": {
        "execution": {
          "iopub.execute_input": "2020-12-26T10:24:07.800516Z",
          "iopub.status.busy": "2020-12-26T10:24:07.799659Z",
          "iopub.status.idle": "2020-12-26T10:24:10.212225Z",
          "shell.execute_reply": "2020-12-26T10:24:10.211329Z"
        },
        "papermill": {
          "duration": 2.452242,
          "end_time": "2020-12-26T10:24:10.212402",
          "exception": false,
          "start_time": "2020-12-26T10:24:07.760160",
          "status": "completed"
        },
        "tags": [],
        "id": "C5DWsxU__P2h"
      },
      "source": [
        "import numpy as np # linear algebra\n",
        "import pandas as pd # data processing, CSV file I/O (e.g. pd.read_csv)\n",
        "import math\n",
        "import seaborn as sns\n",
        "import matplotlib.pyplot as plt\n",
        "%matplotlib inline\n",
        "import cv2\n",
        "import csv\n",
        "import time\n",
        "import random\n",
        "import matplotlib.image as img\n",
        "# import warnings\n",
        "import warnings\n",
        "# filter warnings\n",
        "warnings.filterwarnings('ignore')\n",
        "\n",
        "import os\n",
        "\n",
        "import torch\n",
        "import torch.nn as nn\n",
        "import torch.optim as optim\n",
        "import torch.nn.functional as F\n",
        "import torch.optim as optim\n",
        "from torch.utils.data import DataLoader, Dataset\n",
        "from torch.utils.data import RandomSampler\n",
        "from torch.utils.data import TensorDataset\n",
        "from torchvision.utils import make_grid\n",
        "import torchvision.models as models\n",
        "import time\n",
        "from PIL import Image\n",
        "from tqdm import tqdm\n",
        "import gc\n",
        "from torch.utils.data import DataLoader\n",
        "# from torchsummary import summary"
      ],
      "execution_count": null,
      "outputs": []
    },
    {
      "cell_type": "markdown",
      "metadata": {
        "papermill": {
          "duration": 0.02434,
          "end_time": "2020-12-26T10:24:10.263442",
          "exception": false,
          "start_time": "2020-12-26T10:24:10.239102",
          "status": "completed"
        },
        "tags": [],
        "id": "K2OPTeRj_P2h"
      },
      "source": [
        "## Import Dataset"
      ]
    },
    {
      "cell_type": "code",
      "metadata": {
        "execution": {
          "iopub.execute_input": "2020-12-26T10:24:10.323884Z",
          "iopub.status.busy": "2020-12-26T10:24:10.322988Z",
          "iopub.status.idle": "2020-12-26T10:24:10.325666Z",
          "shell.execute_reply": "2020-12-26T10:24:10.326248Z"
        },
        "papermill": {
          "duration": 0.038554,
          "end_time": "2020-12-26T10:24:10.326422",
          "exception": false,
          "start_time": "2020-12-26T10:24:10.287868",
          "status": "completed"
        },
        "tags": [],
        "id": "KaoTAzz3_P2i"
      },
      "source": [
        "class Musicdata(torch.utils.data.Dataset):\n",
        "    def __init__(self, npz, mode='train'):\n",
        "        npzfile = np.load(npz)\n",
        "        self.mode = mode   \n",
        "        self.x = npzfile['arr_0']\n",
        "        self.x = [one.reshape(1,640,128) for one in self.x]\n",
        "        self.y = npzfile['arr_1']\n",
        "\n",
        "        \n",
        "                    \n",
        "    def __getitem__(self, index):\n",
        "        data = torch.tensor(self.x[index], dtype = torch.float32)\n",
        "        #data = transforms(data)\n",
        "        if self.mode == 'test': \n",
        "            return data\n",
        "        genre = [np.where(one == 1)[0][0] for one in self.y]\n",
        "        genre = torch.tensor(int(genre[index]))\n",
        "        return data, genre\n",
        "\n",
        "    def __len__(self):\n",
        "        return len(self.x)"
      ],
      "execution_count": null,
      "outputs": []
    },
    {
      "cell_type": "code",
      "metadata": {
        "execution": {
          "iopub.execute_input": "2020-12-26T10:24:10.382054Z",
          "iopub.status.busy": "2020-12-26T10:24:10.381382Z",
          "iopub.status.idle": "2020-12-26T10:25:07.105953Z",
          "shell.execute_reply": "2020-12-26T10:25:07.106689Z"
        },
        "papermill": {
          "duration": 56.755109,
          "end_time": "2020-12-26T10:25:07.106901",
          "exception": false,
          "start_time": "2020-12-26T10:24:10.351792",
          "status": "completed"
        },
        "tags": [],
        "id": "Gwn7j8ZU_P2i"
      },
      "source": [
        "dataset_train = Musicdata('/content/drive/MyDrive/shuffled_train.npz', mode='train')\n",
        "dataset_val = Musicdata('/content/drive/My Drive/shuffled_valid.npz', mode='val')\n",
        "# dataset_test = Musicdata('/content/drive/My Drive/test_arr.npz', mode='test')\n",
        "from torch.utils.data import DataLoader\n",
        "\n",
        "train_loader = DataLoader(dataset_train, batch_size=32, shuffle=False, num_workers = 8)\n",
        "val_loader = DataLoader(dataset_val, batch_size=32, shuffle=False, num_workers = 8)\n",
        "# test_loader = DataLoader(dataset_test, batch_size=128, shuffle=False)"
      ],
      "execution_count": null,
      "outputs": []
    },
    {
      "cell_type": "markdown",
      "metadata": {
        "papermill": {
          "duration": 0.040872,
          "end_time": "2020-12-26T10:25:07.196926",
          "exception": false,
          "start_time": "2020-12-26T10:25:07.156054",
          "status": "completed"
        },
        "tags": [],
        "id": "gD73qcjm_P2j"
      },
      "source": [
        "## Building Model Architecture"
      ]
    },
    {
      "cell_type": "markdown",
      "metadata": {
        "papermill": {
          "duration": 0.045982,
          "end_time": "2020-12-26T10:25:07.551034",
          "exception": false,
          "start_time": "2020-12-26T10:25:07.505052",
          "status": "completed"
        },
        "tags": [],
        "id": "iWRRJO4O_P2l"
      },
      "source": [
        "## CNN(ResNet-based) + LSTM\n",
        "The following architecture is based on ResNet."
      ]
    },
    {
      "cell_type": "markdown",
      "metadata": {
        "papermill": {
          "duration": 0.036887,
          "end_time": "2020-12-26T10:25:07.627987",
          "exception": false,
          "start_time": "2020-12-26T10:25:07.591100",
          "status": "completed"
        },
        "tags": [],
        "id": "SrxQfXW1_P2l"
      },
      "source": [
        "### Define `Conv1` layer and `Bottleneck` class"
      ]
    },
    {
      "cell_type": "code",
      "metadata": {
        "execution": {
          "iopub.execute_input": "2020-12-26T10:25:07.705629Z",
          "iopub.status.busy": "2020-12-26T10:25:07.704779Z",
          "iopub.status.idle": "2020-12-26T10:25:07.722211Z",
          "shell.execute_reply": "2020-12-26T10:25:07.723340Z"
        },
        "papermill": {
          "duration": 0.061598,
          "end_time": "2020-12-26T10:25:07.723534",
          "exception": false,
          "start_time": "2020-12-26T10:25:07.661936",
          "status": "completed"
        },
        "tags": [],
        "id": "boIu7cnE_P2l"
      },
      "source": [
        "def Conv1(in_planes, places, stride=2):\n",
        "    return nn.Sequential(\n",
        "        nn.Conv2d(in_channels=in_planes, out_channels=places, kernel_size=7, stride=stride, padding=3, bias=False),\n",
        "        nn.BatchNorm2d(places),\n",
        "        nn.ReLU(inplace=True),\n",
        "        nn.MaxPool2d(kernel_size=3, stride=2, padding=1)\n",
        "    )\n",
        "\n",
        "class Bottleneck(nn.Module):\n",
        "  '''\n",
        "  in_places: size of input channel\n",
        "  places: 進行前兩次捲機時的 output channel size\n",
        "  stride: 第二次卷機時的 stride\n",
        "  expansion: bottleneck 輸出的 channel 為 places*expansion\n",
        "  downsampling: 是否要改變 H, W\n",
        "  '''\n",
        "  def __init__(self,in_places,places, stride=1, downsampling=False, expansion = 4):\n",
        "        super(Bottleneck,self).__init__()\n",
        "        self.expansion = expansion\n",
        "        self.downsampling = downsampling\n",
        "\n",
        "        self.bottleneck = nn.Sequential(\n",
        "            # 第一次是為了改變 channel 的維度，H, W 不變\n",
        "            nn.Conv2d(in_channels=in_places,out_channels=places,kernel_size=1,stride=1, bias=False),\n",
        "            nn.BatchNorm2d(places),\n",
        "            nn.ReLU(inplace=True),\n",
        "            # 第二次是是做捲機，H, W 會變\n",
        "            nn.Conv2d(in_channels=places, out_channels=places, kernel_size=3, stride=stride, padding=1, bias=False),\n",
        "            nn.BatchNorm2d(places),\n",
        "            nn.ReLU(inplace=True),\n",
        "            # 第三次是為了改變 channel 的維度為 places*self.expansion，H, W 不變\n",
        "            nn.Conv2d(in_channels=places, out_channels=places*self.expansion, kernel_size=1, stride=1, bias=False),\n",
        "            nn.BatchNorm2d(places*self.expansion),\n",
        "        )\n",
        "        \n",
        "\n",
        "        if self.downsampling:\n",
        "            self.downsample = nn.Sequential(\n",
        "                nn.Conv2d(in_channels=in_places, out_channels=places*self.expansion, kernel_size=1, stride=stride, bias=False),\n",
        "                nn.BatchNorm2d(places*self.expansion)\n",
        "            )\n",
        "        self.relu = nn.ReLU(inplace=True)\n",
        "  def forward(self, x):\n",
        "        residual = x\n",
        "        out = self.bottleneck(x)\n",
        "\n",
        "        if self.downsampling:\n",
        "            residual = self.downsample(x)\n",
        "\n",
        "        out += residual\n",
        "        out = self.relu(out)\n",
        "        return out"
      ],
      "execution_count": null,
      "outputs": []
    },
    {
      "cell_type": "markdown",
      "metadata": {
        "papermill": {
          "duration": 0.024446,
          "end_time": "2020-12-26T10:25:07.852336",
          "exception": false,
          "start_time": "2020-12-26T10:25:07.827890",
          "status": "completed"
        },
        "tags": [],
        "id": "UAlF_aBC_P2m"
      },
      "source": [
        "### Define `ResNet` class"
      ]
    },
    {
      "cell_type": "code",
      "metadata": {
        "execution": {
          "iopub.execute_input": "2020-12-26T10:25:07.948771Z",
          "iopub.status.busy": "2020-12-26T10:25:07.947833Z",
          "iopub.status.idle": "2020-12-26T10:25:07.951104Z",
          "shell.execute_reply": "2020-12-26T10:25:07.952091Z"
        },
        "papermill": {
          "duration": 0.075109,
          "end_time": "2020-12-26T10:25:07.952251",
          "exception": false,
          "start_time": "2020-12-26T10:25:07.877142",
          "status": "completed"
        },
        "tags": [],
        "id": "TjHK1wLj_P2m"
      },
      "source": [
        "class RESTM(nn.Module):\n",
        "    def __init__(self, blocks, initial_size, expansion=4, hidden_size=32, num_layers=2, fc_neural=512, fc_block=1):\n",
        "        super(RESTM,self).__init__()\n",
        "        self.expansion = expansion\n",
        "        self.initial_size = initial_size\n",
        "\n",
        "        self.conv1 = Conv1(in_planes=1, places=self.initial_size)\n",
        "        set_size = self.initial_size\n",
        "        self.layer1 = self.make_layer(in_places=set_size, places=set_size, block=blocks[0], stride=1, expansion=self.expansion)\n",
        "        set_size *= self.expansion\n",
        "        self.layer2 = self.make_layer(in_places=set_size, places=int(set_size/2), block=blocks[1], stride=2, expansion=self.expansion)\n",
        "        set_size *= self.expansion\n",
        "        self.layer3 = self.make_layer(in_places=int(set_size/2), places=int(set_size/4), block=blocks[2], stride=2, expansion=self.expansion)\n",
        "        set_size *= self.expansion\n",
        "        self.layer4 = self.make_layer(in_places=int(set_size/4), places=int(set_size/8), block=blocks[3], stride=2, expansion=self.expansion)\n",
        "        set_size *= self.expansion\n",
        "\n",
        "        self.avgpool = nn.AvgPool2d(2, stride=1)\n",
        "        self.LSTM = nn.LSTM(int(set_size/8), hidden_size, num_layers, batch_first = True)\n",
        "        \n",
        "        self.fc = self.make_fc(hidden_size=hidden_size, fc_neural=fc_neural, fc_block=fc_block)\n",
        "#         self.fc = nn.Sequential(\n",
        "#                 nn.Dropout(),\n",
        "#                 nn.Linear(3*19*hidden_size, fc_neural),\n",
        "#                 nn.BatchNorm1d(fc_neural),\n",
        "#                 nn.ReLU(True),\n",
        "#                 nn.Dropout(),\n",
        "\n",
        "#                 nn.Linear(fc_neural, 8),\n",
        "#         )\n",
        "\n",
        "        for m in self.modules():\n",
        "            if isinstance(m, nn.Conv2d):\n",
        "                nn.init.kaiming_normal_(m.weight, mode='fan_out', nonlinearity='relu')\n",
        "            elif isinstance(m, nn.BatchNorm2d):\n",
        "                nn.init.constant_(m.weight, 1)\n",
        "                nn.init.constant_(m.bias, 0)\n",
        "\n",
        "    def make_layer(self, in_places, places, block, stride, expansion):\n",
        "        layers = []\n",
        "        layers.append(Bottleneck(in_places, places, stride, downsampling=True, expansion=expansion))\n",
        "        for i in range(1, block):\n",
        "            layers.append(Bottleneck(places*self.expansion, places, expansion=expansion))\n",
        "\n",
        "        return nn.Sequential(*layers)\n",
        "    \n",
        "    def make_fc(self, hidden_size, fc_neural, fc_block):\n",
        "        layers = [nn.Dropout(), nn.Linear(3*19*hidden_size, fc_neural), nn.BatchNorm1d(fc_neural), nn.ReLU(True), nn.Dropout()]\n",
        "        for i in range(fc_block):\n",
        "            layers += [nn.Linear(fc_neural, fc_neural), nn.BatchNorm1d(fc_neural), nn.ReLU(True), nn.Dropout()]\n",
        "        layers += [nn.Linear(fc_neural, 8)]\n",
        "        \n",
        "        return nn.Sequential(*layers)\n",
        "\n",
        "\n",
        "    def forward(self, x):\n",
        "#         size before everything: bach size * 1 * 640 * 128\n",
        "#         size after conv1:       bach size * initial size * 160 * 32\n",
        "#         size after layer1:      bach size * setting      * 160 * 32\n",
        "#         size after layer2:      bach size * setting      *  80 * 16\n",
        "#         size after layer3:      bach size * setting      *  40 *  8\n",
        "#         size after layer4:      bach size * setting      *  20 *  4\n",
        "#         size after avgpooling:  bach size * setting      *  19 *  3\n",
        "#         size after view:        bach size * 57 * setting\n",
        "#         size after LSTM:        bach size * (57 * setting)\n",
        "\n",
        "#         print(\"size before everything:\", x.shape)\n",
        "        x = self.conv1(x)\n",
        "#         print(\"size after conv1\", x.shape)\n",
        "        x = self.layer1(x)\n",
        "#         print(\"size after layer1\", x.shape)\n",
        "        x = self.layer2(x)\n",
        "#         print(\"size after layer2\",x.shape)\n",
        "        x = self.layer3(x)\n",
        "#         print(\"size after layer3\",x.shape)\n",
        "        x = self.layer4(x)\n",
        "#         print(\"size after layer4\",x.shape)\n",
        "        x = self.avgpool(x)\n",
        "#         print(\"size after average pooling\",x.shape)\n",
        "        #x = x.view(x.size(0), -1)\n",
        "        x = x.view(x.size(0), int(3*19), -1)\n",
        "#         print(\"size after view\", x.shape)\n",
        "        x, _ = self.LSTM(x)\n",
        "        x = x.reshape(x.size(0), -1)\n",
        "#         print(\"size after LSTM\", x.shape)\n",
        "        x = self.fc(x)\n",
        "        return x\n",
        "\n",
        "# model = ResNet([1, 2, 1, 1], initial_size=64)\n",
        "# summary(model, (1,128,640))"
      ],
      "execution_count": null,
      "outputs": []
    },
    {
      "cell_type": "markdown",
      "metadata": {
        "papermill": {
          "duration": 0.031309,
          "end_time": "2020-12-26T10:25:08.015834",
          "exception": false,
          "start_time": "2020-12-26T10:25:07.984525",
          "status": "completed"
        },
        "tags": [],
        "id": "1kmCQijG_P2q"
      },
      "source": [
        "### Define `configuration` function"
      ]
    },
    {
      "cell_type": "code",
      "metadata": {
        "execution": {
          "iopub.execute_input": "2020-12-26T10:25:08.090776Z",
          "iopub.status.busy": "2020-12-26T10:25:08.090016Z",
          "iopub.status.idle": "2020-12-26T10:25:08.093978Z",
          "shell.execute_reply": "2020-12-26T10:25:08.094611Z"
        },
        "papermill": {
          "duration": 0.045665,
          "end_time": "2020-12-26T10:25:08.094767",
          "exception": false,
          "start_time": "2020-12-26T10:25:08.049102",
          "status": "completed"
        },
        "tags": [],
        "id": "38x3z2Xi_P2t"
      },
      "source": [
        "def configuration(initial_size=64, blocks_1=1, blocks_2=1, blocks_3=1, blocks_4=1, expansion=4, hidden_size=32, num_layers=2, fc_neural=512, fc_block=1):\n",
        "    block = [blocks_1, blocks_2, blocks_3, blocks_4]\n",
        "    return RESTM(block, initial_size, expansion, hidden_size, num_layers, fc_neural, fc_block)\n",
        "\n",
        "# model = configuration(1, 2, 3, 4, 5, 6, 7)\n",
        "# summary(model, (1,128,640))"
      ],
      "execution_count": null,
      "outputs": []
    },
    {
      "cell_type": "markdown",
      "metadata": {
        "papermill": {
          "duration": 0.024225,
          "end_time": "2020-12-26T10:25:08.289905",
          "exception": false,
          "start_time": "2020-12-26T10:25:08.265680",
          "status": "completed"
        },
        "tags": [],
        "id": "GVjf5cq6_P2u"
      },
      "source": [
        "## Criterion"
      ]
    },
    {
      "cell_type": "code",
      "metadata": {
        "execution": {
          "iopub.execute_input": "2020-12-26T10:25:08.344630Z",
          "iopub.status.busy": "2020-12-26T10:25:08.343781Z",
          "iopub.status.idle": "2020-12-26T10:25:08.349464Z",
          "shell.execute_reply": "2020-12-26T10:25:08.350014Z"
        },
        "papermill": {
          "duration": 0.03523,
          "end_time": "2020-12-26T10:25:08.350164",
          "exception": false,
          "start_time": "2020-12-26T10:25:08.314934",
          "status": "completed"
        },
        "tags": [],
        "id": "ug89VXQY_P2u"
      },
      "source": [
        "criterion = nn.CrossEntropyLoss()\n",
        "criterion = criterion.cuda()"
      ],
      "execution_count": null,
      "outputs": []
    },
    {
      "cell_type": "code",
      "metadata": {
        "execution": {
          "iopub.execute_input": "2020-12-26T10:25:08.410436Z",
          "iopub.status.busy": "2020-12-26T10:25:08.409592Z",
          "iopub.status.idle": "2020-12-26T10:25:08.412263Z",
          "shell.execute_reply": "2020-12-26T10:25:08.412799Z"
        },
        "papermill": {
          "duration": 0.03822,
          "end_time": "2020-12-26T10:25:08.412923",
          "exception": false,
          "start_time": "2020-12-26T10:25:08.374703",
          "status": "completed"
        },
        "tags": [],
        "id": "9LJ2qEp0_P2u"
      },
      "source": [
        "def train(input_data, model, criterion, optimizer, output_disable = False):\n",
        "\n",
        "    model.train()\n",
        "    loss_list = []\n",
        "    total_count = 0\n",
        "    acc_count = 0\n",
        "    pbar = tqdm(input_data, position = 0)\n",
        "    for data in pbar:\n",
        "        pbar.set_description(\"Training\")\n",
        "        music, genre = data[0].cuda(), data[1].cuda()\n",
        "        optimizer.zero_grad()\n",
        "        outputs = model(music)\n",
        "        loss = criterion(outputs, genre) ##data type\n",
        "        loss.backward()\n",
        "        optimizer.step() \n",
        "        _, predicted = torch.max(outputs.data, 1)\n",
        "        total_count += genre.size(0) \n",
        "        acc_count += (predicted == genre).sum()  \n",
        "        loss_list.append(loss.item())\n",
        "        \n",
        "\n",
        "    acc = acc_count.to(\"cpu\").detach().numpy() / total_count\n",
        "    loss = sum(loss_list) / len(loss_list)\n",
        "    return acc, loss"
      ],
      "execution_count": null,
      "outputs": []
    },
    {
      "cell_type": "code",
      "metadata": {
        "execution": {
          "iopub.execute_input": "2020-12-26T10:25:08.475838Z",
          "iopub.status.busy": "2020-12-26T10:25:08.473814Z",
          "iopub.status.idle": "2020-12-26T10:25:08.476640Z",
          "shell.execute_reply": "2020-12-26T10:25:08.477125Z"
        },
        "papermill": {
          "duration": 0.039628,
          "end_time": "2020-12-26T10:25:08.477249",
          "exception": false,
          "start_time": "2020-12-26T10:25:08.437621",
          "status": "completed"
        },
        "tags": [],
        "id": "hkjMf8Is_P2v"
      },
      "source": [
        "def val(input_data, model, criterion, output_disable = False):\n",
        "    model.eval()\n",
        "    \n",
        "    loss_list = []\n",
        "    total_count = 0\n",
        "    acc_count = 0\n",
        "    pbar = tqdm(input_data, position = 0)\n",
        "    with torch.no_grad():\n",
        "        for data in pbar:\n",
        "            pbar.set_description(\"Validation\")\n",
        "            music, genre = data[0].cuda(), data[1].cuda()\n",
        "            outputs = model(music)\n",
        "            loss = criterion(outputs, genre) ##data type\n",
        "            _, predicted = torch.max(outputs.data, dim=1)\n",
        "            total_count += genre.size(0)\n",
        "            acc_count += (predicted == genre).sum()\n",
        "            loss_list.append(loss.item())\n",
        "\n",
        "\n",
        "    acc = acc_count.to(\"cpu\").detach().numpy() / total_count\n",
        "    loss = sum(loss_list) / len(loss_list)\n",
        "    return acc, loss"
      ],
      "execution_count": null,
      "outputs": []
    },
    {
      "cell_type": "markdown",
      "metadata": {
        "papermill": {
          "duration": 0.036784,
          "end_time": "2020-12-26T10:25:08.660016",
          "exception": false,
          "start_time": "2020-12-26T10:25:08.623232",
          "status": "completed"
        },
        "tags": [],
        "id": "HR_XR9Wj_P2v"
      },
      "source": [
        "## CNN(ResNet-based) + LSTM Training Process\n",
        "The following architecture is based on ResNet."
      ]
    },
    {
      "cell_type": "code",
      "metadata": {
        "execution": {
          "iopub.execute_input": "2020-12-26T10:25:08.747048Z",
          "iopub.status.busy": "2020-12-26T10:25:08.746123Z",
          "iopub.status.idle": "2020-12-26T10:25:08.759019Z",
          "shell.execute_reply": "2020-12-26T10:25:08.760114Z"
        },
        "papermill": {
          "duration": 0.062695,
          "end_time": "2020-12-26T10:25:08.760325",
          "exception": false,
          "start_time": "2020-12-26T10:25:08.697630",
          "status": "completed"
        },
        "tags": [],
        "id": "eSYB1mcF_P2w"
      },
      "source": [
        "def RESTM_Train(parameters ,max_epochs = 3):    \n",
        "    learning_rate = parameters[0]\n",
        "    initial_size, blocks_1, blocks_2, blocks_3, blocks_4, expansion, hidden_size, num_layers, fc_neural, fc_block = tuple(int(param) for param in parameters[1:])\n",
        "    \n",
        "    print(\" learning_rate =\", learning_rate, \"initial_size =\", initial_size, \"\\n\",\\\n",
        "          \"blocks_1 =\",blocks_1, \"blocks_2 =\",blocks_2, \"blocks_3 =\",blocks_3, \"blocks_4 =\",blocks_4, \"\\n\", \\\n",
        "          \"expansion =\", expansion, \"hidden_size =\", hidden_size, \"num_layers =\", num_layers)\n",
        "    \n",
        "    train_acc_list = []\n",
        "    train_loss_list = []\n",
        "    val_acc_list = []\n",
        "    val_loss_list = []\n",
        "    \n",
        "    model = configuration(initial_size, blocks_1, blocks_2, blocks_3, blocks_4, expansion, hidden_size, num_layers, fc_neural, fc_block)\n",
        "    model = model.cuda()\n",
        "    optimizer = torch.optim.Adam(params = model.parameters(), lr=learning_rate, betas=(0.9, 0.999), eps=1e-08, weight_decay=0, amsgrad=False)\n",
        "\n",
        "    for epoch in range(1, max_epochs + 1):\n",
        "        print('=' * 20, 'Epoch', epoch, '=' * 20)\n",
        "        train_acc, train_loss = train(train_loader, model, criterion, optimizer, True)\n",
        "        val_acc, val_loss = val(val_loader, model, criterion, True)\n",
        "\n",
        "        train_acc_list.append(train_acc)\n",
        "        train_loss_list.append(train_loss)\n",
        "        val_acc_list.append(val_acc)\n",
        "        val_loss_list.append(val_loss)\n",
        "\n",
        "        print('Train Acc: {:.6f} Train Loss: {:.6f}'.format(train_acc, train_loss))\n",
        "        print('  Val Acc: {:.6f}   Val Loss: {:.6f}'.format(val_acc, val_loss))\n",
        "    return val_acc"
      ],
      "execution_count": null,
      "outputs": []
    },
    {
      "cell_type": "code",
      "metadata": {
        "execution": {
          "iopub.execute_input": "2020-12-26T10:25:08.838724Z",
          "iopub.status.busy": "2020-12-26T10:25:08.837806Z",
          "iopub.status.idle": "2020-12-26T10:25:08.842423Z",
          "shell.execute_reply": "2020-12-26T10:25:08.843483Z"
        },
        "papermill": {
          "duration": 0.04958,
          "end_time": "2020-12-26T10:25:08.843663",
          "exception": false,
          "start_time": "2020-12-26T10:25:08.794083",
          "status": "completed"
        },
        "tags": [],
        "id": "4JTbrKsa_P2w"
      },
      "source": [
        "def comparison(parameter, lower_bound, upper_bound, integer = False, mutation_rate = 0.02):\n",
        "    new_parameter = parameter\n",
        "    if parameter > upper_bound:\n",
        "        new_parameter =  np.random.uniform(low = (lower_bound+upper_bound)/2, high = upper_bound)\n",
        "    elif parameter < lower_bound:\n",
        "        new_parameter =  np.random.uniform(low = lower_bound, high = (lower_bound+upper_bound)/2)\n",
        "    else:\n",
        "        if random.uniform(0,1) < mutation_rate:\n",
        "            new_parameter = np.random.uniform(low = lower_bound, high = upper_bound)\n",
        "            print(\"Mutation occur:\", parameter, \"-->\", new_parameter)\n",
        "    if integer:\n",
        "        new_parameter = int(new_parameter)\n",
        "    return new_parameter"
      ],
      "execution_count": null,
      "outputs": []
    },
    {
      "cell_type": "code",
      "metadata": {
        "id": "H5bG5hhBFKEz"
      },
      "source": [
        "def communication(i, iteration_per_communicate, local_number, receive_numbers, Gb, add, score_ind):\n",
        "  write_name = str(i)+ str(local_number) +\".csv\"\n",
        "  pd.DataFrame(Gb).to_csv(add+write_name)\n",
        "  for receive_number in receive_numbers:\n",
        "    patience = 0\n",
        "    check = True\n",
        "    while check:\n",
        "      try:\n",
        "        read_name = str(i)+ str(receive_number) +\".csv\"\n",
        "        Gb_from_others = pd.read_csv(add+read_name)\n",
        "        Gb_from_others = Gb_from_others.to_numpy().transpose()[1,]  \n",
        "        print(\"receive from\", receive_number, Gb_from_others)\n",
        "        if Gb_from_others[score_ind] > Gb[score_ind]:\n",
        "          Gb = Gb_from_others\n",
        "\n",
        "        check = False\n",
        "      except:\n",
        "        time.sleep(1)\n",
        "        patience += 1\n",
        "        if patience > 4*60:\n",
        "          print(\"break!!!!!! I loss my patience\")\n",
        "          break\n",
        "  return Gb"
      ],
      "execution_count": null,
      "outputs": []
    },
    {
      "cell_type": "code",
      "metadata": {
        "execution": {
          "iopub.execute_input": "2020-12-26T10:25:08.922130Z",
          "iopub.status.busy": "2020-12-26T10:25:08.921208Z",
          "iopub.status.idle": "2020-12-26T10:25:08.944381Z",
          "shell.execute_reply": "2020-12-26T10:25:08.945133Z"
        },
        "papermill": {
          "duration": 0.066729,
          "end_time": "2020-12-26T10:25:08.945347",
          "exception": false,
          "start_time": "2020-12-26T10:25:08.878618",
          "status": "completed"
        },
        "tags": [],
        "colab": {
          "base_uri": "https://localhost:8080/"
        },
        "id": "--6N_0Lz_P2w",
        "outputId": "99b92aa1-4b07-4d56-e4ec-27e31acc7fb2"
      },
      "source": [
        "p_num = 4  ##粒子個數\n",
        "max_iteration = 10 ##迭代次數\n",
        "score_ind = 11 ## 分數的 index\n",
        "record = np.zeros((1, max_iteration), dtype='float')\n",
        "boundary = [[1e-5, 5e-3],[1,64],[1,8],[1,16],[1,30],[1,16],[4,4],[1, 50], [1, 5], [32,256], [1,3]]\n",
        "x = np.array([[1.5e-4, 59,  3,1,1,1,  4, 30, 1, 256, 1, 0.398750],\n",
        "              [  5e-4, 40,  3,6,5,3,  4, 30, 1, 128, 2, 0.426250],\n",
        "              [  1e-4, 48,  4,3,2,1,  4, 31, 2,  64, 3, 0.261250],\n",
        "              [  5e-3, 20,  6,6,16,3, 4, 20, 2,  32, 1, 0.373750],\n",
        "             ])\n",
        "x = x.transpose()\n",
        "for j in range(p_num):\n",
        "    for k in range(score_ind):\n",
        "        if k != 0:\n",
        "            x[k,j] = comparison(x[k,j], boundary[k][0], boundary[k][1], True,  mutation_rate = 1)\n",
        "    gc.collect()\n",
        "    with torch.no_grad():\n",
        "        torch.cuda.empty_cache()\n",
        "    time.sleep(10)\n",
        "    x[score_ind,j] = RESTM_Train(x[:score_ind,j].tolist())\n",
        "          \n",
        "# x = np.array([[1.5000e-04, 5.0000e-04, 1.0000e-04, 5.0000e-03],\n",
        "#  [4.2000e+01, 1.6000e+01, 5.4000e+01, 1.0000e+00],\n",
        "#  [4.0000e+00, 5.0000e+00, 4.0000e+00, 2.0000e+00],\n",
        "#  [1.1000e+01, 1.1000e+01, 7.0000e+00, 1.3000e+01],\n",
        "#  [1.8000e+01, 4.0000e+00, 4.0000e+00, 1.2000e+01],\n",
        "#  [2.0000e+00, 3.0000e+00, 1.0000e+01, 1.0000e+00],\n",
        "#  [4.0000e+00, 4.0000e+00, 4.0000e+00, 4.0000e+00],\n",
        "#  [1.1000e+01, 3.0000e+00, 8.0000e+00, 2.5000e+01],\n",
        "#  [3.0000e+00, 1.0000e+00, 3.0000e+00, 3.0000e+00],\n",
        "#  [1.7400e+02, 1.8700e+02, 2.2000e+02, 1.2000e+02],\n",
        "#  [1.0000e+00, 1.0000e+00, 1.0000e+00, 1.0000e+00],\n",
        "#  [2.3250e-01, 2.1375e-01, 1.0125e-01, 3.1375e-01]])\n",
        "\n",
        "print(x)"
      ],
      "execution_count": null,
      "outputs": [
        {
          "output_type": "stream",
          "text": [
            "[[1.5000e-04 5.0000e-04 1.0000e-04 5.0000e-03]\n",
            " [4.2000e+01 1.6000e+01 5.4000e+01 1.0000e+00]\n",
            " [4.0000e+00 5.0000e+00 4.0000e+00 2.0000e+00]\n",
            " [1.1000e+01 1.1000e+01 7.0000e+00 1.3000e+01]\n",
            " [1.8000e+01 4.0000e+00 4.0000e+00 1.2000e+01]\n",
            " [2.0000e+00 3.0000e+00 1.0000e+01 1.0000e+00]\n",
            " [4.0000e+00 4.0000e+00 4.0000e+00 4.0000e+00]\n",
            " [1.1000e+01 3.0000e+00 8.0000e+00 2.5000e+01]\n",
            " [3.0000e+00 1.0000e+00 3.0000e+00 3.0000e+00]\n",
            " [1.7400e+02 1.8700e+02 2.2000e+02 1.2000e+02]\n",
            " [1.0000e+00 1.0000e+00 1.0000e+00 1.0000e+00]\n",
            " [2.3250e-01 2.1375e-01 1.0125e-01 3.1375e-01]]\n"
          ],
          "name": "stdout"
        }
      ]
    },
    {
      "cell_type": "code",
      "metadata": {
        "execution": {
          "iopub.execute_input": "2020-12-26T10:25:09.035207Z",
          "iopub.status.busy": "2020-12-26T10:25:09.034303Z",
          "iopub.status.idle": "2020-12-26T10:25:09.038479Z",
          "shell.execute_reply": "2020-12-26T10:25:09.039165Z"
        },
        "papermill": {
          "duration": 0.049379,
          "end_time": "2020-12-26T10:25:09.039402",
          "exception": false,
          "start_time": "2020-12-26T10:25:08.990023",
          "status": "completed"
        },
        "tags": [],
        "colab": {
          "base_uri": "https://localhost:8080/"
        },
        "id": "259sYOz1_P2x",
        "outputId": "7c292966-16e0-4fd4-ae2d-3a85e5cd2a42"
      },
      "source": [
        "w = 0.5\n",
        "c1 = 2\n",
        "c2 = 2\n",
        "V = np.zeros((score_ind, p_num))\n",
        "Pb = x.copy()\n",
        "Gb = Pb[:, np.argmax(Pb[score_ind])].copy()\n",
        "Gb = communication(0, iteration_per_communicate, local_number, receive_numbers, Gb, add, score_ind)\n",
        "print(Gb)"
      ],
      "execution_count": null,
      "outputs": [
        {
          "output_type": "stream",
          "text": [
            "receive from 2 [5.0000e-04 1.9000e+01 7.0000e+00 3.0000e+00 2.3000e+01 4.0000e+00\n",
            " 4.0000e+00 3.4000e+01 4.0000e+00 2.5500e+02 1.0000e+00 2.9625e-01]\n",
            "receive from 3 [5.0000e-04 5.3000e+01 4.0000e+00 2.0000e+00 1.8000e+01 9.0000e+00\n",
            " 4.0000e+00 2.6000e+01 1.0000e+00 8.0000e+01 1.0000e+00 3.0375e-01]\n",
            "receive from 4 [5.00e-03 3.50e+01 6.00e+00 1.10e+01 1.80e+01 8.00e+00 4.00e+00 2.10e+01\n",
            " 3.00e+00 2.08e+02 1.00e+00 2.15e-01]\n",
            "[5.0000e-03 1.0000e+00 2.0000e+00 1.3000e+01 1.2000e+01 1.0000e+00\n",
            " 4.0000e+00 2.5000e+01 3.0000e+00 1.2000e+02 1.0000e+00 3.1375e-01]\n"
          ],
          "name": "stdout"
        }
      ]
    },
    {
      "cell_type": "code",
      "metadata": {
        "colab": {
          "base_uri": "https://localhost:8080/"
        },
        "id": "MV6C4T7SUh5H",
        "outputId": "b6eda2c6-ceb1-4a87-da09-219ee4e280a3"
      },
      "source": [
        "for i in range(1,(max_iteration+1)):\n",
        "    print('-' * 20, 'Iteration', i, '-' * 20)\n",
        "    for j in range(p_num):\n",
        "        print('.' * 20, 'Particle', j+1, '.' * 20)\n",
        "        for k in range(score_ind):\n",
        "            V[k,j] = w * V[k,j] + c1 * random.uniform(0,1) * (Pb[k,j] - x[k,j]) + c2 * random.uniform(0,1) * (Gb[k] - x[k,j])  ##計算速度\n",
        "            x[k,j] += V[k,j]  ##更新位置\n",
        "            x[k,j] = comparison(x[k,j], boundary[k][0], boundary[k][1], (k != 0))\n",
        "        gc.collect()\n",
        "        with torch.no_grad():\n",
        "            torch.cuda.empty_cache()\n",
        "        time.sleep(10)\n",
        "        x[score_ind,j] = RESTM_Train(x[:score_ind,j].tolist())\n",
        "    for j in range(p_num): ##每個粒子的最好位置更新\n",
        "        if Pb[score_ind,j] < x[score_ind,j]:\n",
        "            Pb[:,j] = x[:,j].copy()\n",
        "            print(Gb[score_ind], max(Pb[score_ind]))\n",
        "    if Gb[score_ind] < max(Pb[score_ind]): \n",
        "        Gb = Pb[:, np.argmax(Pb[score_ind])].copy()\n",
        "\n",
        "    if i % iteration_per_communicate == 0:\n",
        "        Gb = communication(i, iteration_per_communicate, local_number, receive_numbers, Gb, add, score_ind)\n",
        "    print(i,Gb)"
      ],
      "execution_count": null,
      "outputs": [
        {
          "output_type": "stream",
          "text": [
            "-------------------- Iteration 1 --------------------\n",
            ".................... Particle 1 ....................\n",
            " learning_rate = 0.0028187847549780024 initial_size = 5 \n",
            " blocks_1 = 3 blocks_2 = 14 blocks_3 = 17 blocks_4 = 1 \n",
            " expansion = 4 hidden_size = 29 num_layers = 3\n"
          ],
          "name": "stdout"
        },
        {
          "output_type": "stream",
          "text": [
            "\r  0%|          | 0/200 [00:00<?, ?it/s]"
          ],
          "name": "stderr"
        },
        {
          "output_type": "stream",
          "text": [
            "==================== Epoch 1 ====================\n"
          ],
          "name": "stdout"
        },
        {
          "output_type": "stream",
          "text": [
            "Training: 100%|██████████| 200/200 [01:51<00:00,  1.79it/s]\n",
            "Validation: 100%|██████████| 25/25 [00:02<00:00,  8.36it/s]\n",
            "  0%|          | 0/200 [00:00<?, ?it/s]"
          ],
          "name": "stderr"
        },
        {
          "output_type": "stream",
          "text": [
            "Train Acc: 0.126212 Train Loss: 2.153193\n",
            "  Val Acc: 0.146250   Val Loss: 2.068887\n",
            "==================== Epoch 2 ====================\n"
          ],
          "name": "stdout"
        },
        {
          "output_type": "stream",
          "text": [
            "Training: 100%|██████████| 200/200 [01:51<00:00,  1.79it/s]\n",
            "Validation: 100%|██████████| 25/25 [00:02<00:00,  8.34it/s]\n",
            "  0%|          | 0/200 [00:00<?, ?it/s]"
          ],
          "name": "stderr"
        },
        {
          "output_type": "stream",
          "text": [
            "Train Acc: 0.192055 Train Loss: 2.006416\n",
            "  Val Acc: 0.210000   Val Loss: 1.943914\n",
            "==================== Epoch 3 ====================\n"
          ],
          "name": "stdout"
        },
        {
          "output_type": "stream",
          "text": [
            "Training: 100%|██████████| 200/200 [01:52<00:00,  1.78it/s]\n",
            "Validation: 100%|██████████| 25/25 [00:03<00:00,  7.97it/s]\n"
          ],
          "name": "stderr"
        },
        {
          "output_type": "stream",
          "text": [
            "Train Acc: 0.280419 Train Loss: 1.859892\n",
            "  Val Acc: 0.271250   Val Loss: 1.873371\n",
            ".................... Particle 2 ....................\n"
          ],
          "name": "stdout"
        },
        {
          "output_type": "stream",
          "text": [
            "\r  0%|          | 0/200 [00:00<?, ?it/s]"
          ],
          "name": "stderr"
        },
        {
          "output_type": "stream",
          "text": [
            " learning_rate = 0.003992144114762897 initial_size = 9 \n",
            " blocks_1 = 4 blocks_2 = 11 blocks_3 = 7 blocks_4 = 4 \n",
            " expansion = 4 hidden_size = 14 num_layers = 2\n",
            "==================== Epoch 1 ====================\n"
          ],
          "name": "stdout"
        },
        {
          "output_type": "stream",
          "text": [
            "Training: 100%|██████████| 200/200 [01:49<00:00,  1.83it/s]\n",
            "Validation: 100%|██████████| 25/25 [00:03<00:00,  8.13it/s]\n",
            "  0%|          | 0/200 [00:00<?, ?it/s]"
          ],
          "name": "stderr"
        },
        {
          "output_type": "stream",
          "text": [
            "Train Acc: 0.162809 Train Loss: 2.125274\n",
            "  Val Acc: 0.242500   Val Loss: 1.984841\n",
            "==================== Epoch 2 ====================\n"
          ],
          "name": "stdout"
        },
        {
          "output_type": "stream",
          "text": [
            "Training: 100%|██████████| 200/200 [01:51<00:00,  1.80it/s]\n",
            "Validation: 100%|██████████| 25/25 [00:03<00:00,  8.19it/s]\n",
            "  0%|          | 0/200 [00:00<?, ?it/s]"
          ],
          "name": "stderr"
        },
        {
          "output_type": "stream",
          "text": [
            "Train Acc: 0.277135 Train Loss: 1.890255\n",
            "  Val Acc: 0.222500   Val Loss: 1.992655\n",
            "==================== Epoch 3 ====================\n"
          ],
          "name": "stdout"
        },
        {
          "output_type": "stream",
          "text": [
            "Training: 100%|██████████| 200/200 [01:51<00:00,  1.79it/s]\n",
            "Validation: 100%|██████████| 25/25 [00:03<00:00,  8.06it/s]\n"
          ],
          "name": "stderr"
        },
        {
          "output_type": "stream",
          "text": [
            "Train Acc: 0.324836 Train Loss: 1.798208\n",
            "  Val Acc: 0.287500   Val Loss: 1.915874\n",
            ".................... Particle 3 ....................\n",
            "Mutation occur: 1.0 --> 1.52785787502694\n"
          ],
          "name": "stdout"
        },
        {
          "output_type": "stream",
          "text": [
            "\r  0%|          | 0/200 [00:00<?, ?it/s]"
          ],
          "name": "stderr"
        },
        {
          "output_type": "stream",
          "text": [
            " learning_rate = 0.0027818766739924517 initial_size = 3 \n",
            " blocks_1 = 2 blocks_2 = 15 blocks_3 = 17 blocks_4 = 2 \n",
            " expansion = 4 hidden_size = 29 num_layers = 3\n",
            "==================== Epoch 1 ====================\n"
          ],
          "name": "stdout"
        },
        {
          "output_type": "stream",
          "text": [
            "Training: 100%|██████████| 200/200 [01:55<00:00,  1.74it/s]\n",
            "Validation: 100%|██████████| 25/25 [00:03<00:00,  7.92it/s]\n",
            "  0%|          | 0/200 [00:00<?, ?it/s]"
          ],
          "name": "stderr"
        },
        {
          "output_type": "stream",
          "text": [
            "Train Acc: 0.160463 Train Loss: 2.091070\n",
            "  Val Acc: 0.221250   Val Loss: 1.970582\n",
            "==================== Epoch 2 ====================\n"
          ],
          "name": "stdout"
        },
        {
          "output_type": "stream",
          "text": [
            "Training: 100%|██████████| 200/200 [01:54<00:00,  1.75it/s]\n",
            "Validation: 100%|██████████| 25/25 [00:03<00:00,  7.99it/s]\n",
            "  0%|          | 0/200 [00:00<?, ?it/s]"
          ],
          "name": "stderr"
        },
        {
          "output_type": "stream",
          "text": [
            "Train Acc: 0.204098 Train Loss: 1.998518\n",
            "  Val Acc: 0.232500   Val Loss: 1.985075\n",
            "==================== Epoch 3 ====================\n"
          ],
          "name": "stdout"
        },
        {
          "output_type": "stream",
          "text": [
            "Training: 100%|██████████| 200/200 [01:54<00:00,  1.74it/s]\n",
            "Validation: 100%|██████████| 25/25 [00:03<00:00,  7.93it/s]\n"
          ],
          "name": "stderr"
        },
        {
          "output_type": "stream",
          "text": [
            "Train Acc: 0.293869 Train Loss: 1.849254\n",
            "  Val Acc: 0.300000   Val Loss: 1.863199\n",
            ".................... Particle 4 ....................\n"
          ],
          "name": "stdout"
        },
        {
          "output_type": "stream",
          "text": [
            "\r  0%|          | 0/200 [00:00<?, ?it/s]"
          ],
          "name": "stderr"
        },
        {
          "output_type": "stream",
          "text": [
            " learning_rate = 0.005 initial_size = 1 \n",
            " blocks_1 = 2 blocks_2 = 13 blocks_3 = 12 blocks_4 = 1 \n",
            " expansion = 4 hidden_size = 25 num_layers = 3\n",
            "==================== Epoch 1 ====================\n"
          ],
          "name": "stdout"
        },
        {
          "output_type": "stream",
          "text": [
            "Training: 100%|██████████| 200/200 [01:53<00:00,  1.77it/s]\n",
            "Validation: 100%|██████████| 25/25 [00:03<00:00,  8.15it/s]\n",
            "  0%|          | 0/200 [00:00<?, ?it/s]"
          ],
          "name": "stderr"
        },
        {
          "output_type": "stream",
          "text": [
            "Train Acc: 0.127307 Train Loss: 2.157973\n",
            "  Val Acc: 0.125000   Val Loss: 2.080711\n",
            "==================== Epoch 2 ====================\n"
          ],
          "name": "stdout"
        },
        {
          "output_type": "stream",
          "text": [
            "Training: 100%|██████████| 200/200 [01:51<00:00,  1.79it/s]\n",
            "Validation: 100%|██████████| 25/25 [00:03<00:00,  8.29it/s]\n",
            "  0%|          | 0/200 [00:00<?, ?it/s]"
          ],
          "name": "stderr"
        },
        {
          "output_type": "stream",
          "text": [
            "Train Acc: 0.131530 Train Loss: 2.109606\n",
            "  Val Acc: 0.223750   Val Loss: 2.037588\n",
            "==================== Epoch 3 ====================\n"
          ],
          "name": "stdout"
        },
        {
          "output_type": "stream",
          "text": [
            "Training: 100%|██████████| 200/200 [01:53<00:00,  1.77it/s]\n",
            "Validation: 100%|██████████| 25/25 [00:03<00:00,  7.96it/s]\n"
          ],
          "name": "stderr"
        },
        {
          "output_type": "stream",
          "text": [
            "Train Acc: 0.190647 Train Loss: 2.013977\n",
            "  Val Acc: 0.230000   Val Loss: 1.961877\n",
            "0.31375 0.31375\n",
            "0.31375 0.31375\n",
            "0.31375 0.31375\n",
            "receive from 2 [1.44072102e-03 2.70000000e+01 3.00000000e+00 1.40000000e+01\n",
            " 8.00000000e+00 8.00000000e+00 4.00000000e+00 2.60000000e+01\n",
            " 2.00000000e+00 1.22000000e+02 1.00000000e+00 3.72500000e-01]\n",
            "receive from 3 [4.09175326e-03 2.90000000e+01 2.00000000e+00 6.00000000e+00\n",
            " 1.70000000e+01 6.00000000e+00 4.00000000e+00 2.40000000e+01\n",
            " 1.00000000e+00 1.31000000e+02 1.00000000e+00 3.25000000e-01]\n",
            "receive from 4 [3.43225528e-03 4.00000000e+00 2.00000000e+00 1.00000000e+01\n",
            " 1.00000000e+01 4.00000000e+00 4.00000000e+00 1.20000000e+01\n",
            " 3.00000000e+00 1.09000000e+02 1.00000000e+00 3.62500000e-01]\n",
            "1 [1.44072102e-03 2.70000000e+01 3.00000000e+00 1.40000000e+01\n",
            " 8.00000000e+00 8.00000000e+00 4.00000000e+00 2.60000000e+01\n",
            " 2.00000000e+00 1.22000000e+02 1.00000000e+00 3.72500000e-01]\n",
            "-------------------- Iteration 2 --------------------\n",
            ".................... Particle 1 ....................\n"
          ],
          "name": "stdout"
        },
        {
          "output_type": "stream",
          "text": [
            "\r  0%|          | 0/200 [00:00<?, ?it/s]"
          ],
          "name": "stderr"
        },
        {
          "output_type": "stream",
          "text": [
            " learning_rate = 0.004461389952270723 initial_size = 19 \n",
            " blocks_1 = 2 blocks_2 = 15 blocks_3 = 15 blocks_4 = 9 \n",
            " expansion = 4 hidden_size = 36 num_layers = 2\n",
            "==================== Epoch 1 ====================\n"
          ],
          "name": "stdout"
        },
        {
          "output_type": "stream",
          "text": [
            "Training: 100%|██████████| 200/200 [02:00<00:00,  1.66it/s]\n",
            "Validation: 100%|██████████| 25/25 [00:03<00:00,  6.62it/s]\n",
            "  0%|          | 0/200 [00:00<?, ?it/s]"
          ],
          "name": "stderr"
        },
        {
          "output_type": "stream",
          "text": [
            "Train Acc: 0.162652 Train Loss: 2.091201\n",
            "  Val Acc: 0.170000   Val Loss: 2.067556\n",
            "==================== Epoch 2 ====================\n"
          ],
          "name": "stdout"
        },
        {
          "output_type": "stream",
          "text": [
            "Training: 100%|██████████| 200/200 [02:00<00:00,  1.66it/s]\n",
            "Validation: 100%|██████████| 25/25 [00:03<00:00,  6.55it/s]\n",
            "  0%|          | 0/200 [00:00<?, ?it/s]"
          ],
          "name": "stderr"
        },
        {
          "output_type": "stream",
          "text": [
            "Train Acc: 0.188614 Train Loss: 2.010162\n",
            "  Val Acc: 0.243750   Val Loss: 1.979262\n",
            "==================== Epoch 3 ====================\n"
          ],
          "name": "stdout"
        },
        {
          "output_type": "stream",
          "text": [
            "Training: 100%|██████████| 200/200 [02:00<00:00,  1.66it/s]\n",
            "Validation: 100%|██████████| 25/25 [00:03<00:00,  6.57it/s]\n"
          ],
          "name": "stderr"
        },
        {
          "output_type": "stream",
          "text": [
            "Train Acc: 0.267438 Train Loss: 1.914346\n",
            "  Val Acc: 0.282500   Val Loss: 1.910172\n",
            ".................... Particle 2 ....................\n"
          ],
          "name": "stdout"
        },
        {
          "output_type": "stream",
          "text": [
            "\r  0%|          | 0/200 [00:00<?, ?it/s]"
          ],
          "name": "stderr"
        },
        {
          "output_type": "stream",
          "text": [
            " learning_rate = 0.0015516681041158348 initial_size = 12 \n",
            " blocks_1 = 2 blocks_2 = 15 blocks_3 = 9 blocks_4 = 2 \n",
            " expansion = 4 hidden_size = 32 num_layers = 2\n",
            "==================== Epoch 1 ====================\n"
          ],
          "name": "stdout"
        },
        {
          "output_type": "stream",
          "text": [
            "Training: 100%|██████████| 200/200 [01:51<00:00,  1.79it/s]\n",
            "Validation: 100%|██████████| 25/25 [00:03<00:00,  7.61it/s]\n",
            "  0%|          | 0/200 [00:00<?, ?it/s]"
          ],
          "name": "stderr"
        },
        {
          "output_type": "stream",
          "text": [
            "Train Acc: 0.192368 Train Loss: 2.041128\n",
            "  Val Acc: 0.220000   Val Loss: 2.023863\n",
            "==================== Epoch 2 ====================\n"
          ],
          "name": "stdout"
        },
        {
          "output_type": "stream",
          "text": [
            "Training: 100%|██████████| 200/200 [01:50<00:00,  1.80it/s]\n",
            "Validation: 100%|██████████| 25/25 [00:03<00:00,  7.75it/s]\n",
            "  0%|          | 0/200 [00:00<?, ?it/s]"
          ],
          "name": "stderr"
        },
        {
          "output_type": "stream",
          "text": [
            "Train Acc: 0.269628 Train Loss: 1.870934\n",
            "  Val Acc: 0.323750   Val Loss: 1.784129\n",
            "==================== Epoch 3 ====================\n"
          ],
          "name": "stdout"
        },
        {
          "output_type": "stream",
          "text": [
            "Training: 100%|██████████| 200/200 [01:51<00:00,  1.79it/s]\n",
            "Validation: 100%|██████████| 25/25 [00:03<00:00,  7.81it/s]\n"
          ],
          "name": "stderr"
        },
        {
          "output_type": "stream",
          "text": [
            "Train Acc: 0.342509 Train Loss: 1.731834\n",
            "  Val Acc: 0.355000   Val Loss: 1.713370\n",
            ".................... Particle 3 ....................\n"
          ],
          "name": "stdout"
        },
        {
          "output_type": "stream",
          "text": [
            "\r  0%|          | 0/200 [00:00<?, ?it/s]"
          ],
          "name": "stderr"
        },
        {
          "output_type": "stream",
          "text": [
            " learning_rate = 0.001566399664692731 initial_size = 14 \n",
            " blocks_1 = 2 blocks_2 = 14 blocks_3 = 11 blocks_4 = 3 \n",
            " expansion = 4 hidden_size = 35 num_layers = 2\n",
            "==================== Epoch 1 ====================\n"
          ],
          "name": "stdout"
        },
        {
          "output_type": "stream",
          "text": [
            "Training: 100%|██████████| 200/200 [01:53<00:00,  1.76it/s]\n",
            "Validation: 100%|██████████| 25/25 [00:03<00:00,  7.56it/s]\n",
            "  0%|          | 0/200 [00:00<?, ?it/s]"
          ],
          "name": "stderr"
        },
        {
          "output_type": "stream",
          "text": [
            "Train Acc: 0.203472 Train Loss: 2.022440\n",
            "  Val Acc: 0.226250   Val Loss: 2.036543\n",
            "==================== Epoch 2 ====================\n"
          ],
          "name": "stdout"
        },
        {
          "output_type": "stream",
          "text": [
            "Training: 100%|██████████| 200/200 [01:53<00:00,  1.76it/s]\n",
            "Validation: 100%|██████████| 25/25 [00:03<00:00,  7.68it/s]\n",
            "  0%|          | 0/200 [00:00<?, ?it/s]"
          ],
          "name": "stderr"
        },
        {
          "output_type": "stream",
          "text": [
            "Train Acc: 0.292462 Train Loss: 1.859668\n",
            "  Val Acc: 0.308750   Val Loss: 1.784784\n",
            "==================== Epoch 3 ====================\n"
          ],
          "name": "stdout"
        },
        {
          "output_type": "stream",
          "text": [
            "Training: 100%|██████████| 200/200 [01:52<00:00,  1.77it/s]\n",
            "Validation: 100%|██████████| 25/25 [00:03<00:00,  7.53it/s]\n"
          ],
          "name": "stderr"
        },
        {
          "output_type": "stream",
          "text": [
            "Train Acc: 0.343760 Train Loss: 1.758786\n",
            "  Val Acc: 0.320000   Val Loss: 1.756615\n",
            ".................... Particle 4 ....................\n"
          ],
          "name": "stdout"
        },
        {
          "output_type": "stream",
          "text": [
            "\r  0%|          | 0/200 [00:00<?, ?it/s]"
          ],
          "name": "stderr"
        },
        {
          "output_type": "stream",
          "text": [
            " learning_rate = 0.0008351134748248358 initial_size = 3 \n",
            " blocks_1 = 2 blocks_2 = 13 blocks_3 = 5 blocks_4 = 13 \n",
            " expansion = 4 hidden_size = 25 num_layers = 2\n",
            "==================== Epoch 1 ====================\n"
          ],
          "name": "stdout"
        },
        {
          "output_type": "stream",
          "text": [
            "Training: 100%|██████████| 200/200 [01:52<00:00,  1.78it/s]\n",
            "Validation: 100%|██████████| 25/25 [00:03<00:00,  8.12it/s]\n",
            "  0%|          | 0/200 [00:00<?, ?it/s]"
          ],
          "name": "stderr"
        },
        {
          "output_type": "stream",
          "text": [
            "Train Acc: 0.150610 Train Loss: 2.126199\n",
            "  Val Acc: 0.156250   Val Loss: 2.085778\n",
            "==================== Epoch 2 ====================\n"
          ],
          "name": "stdout"
        },
        {
          "output_type": "stream",
          "text": [
            "Training: 100%|██████████| 200/200 [01:51<00:00,  1.79it/s]\n",
            "Validation: 100%|██████████| 25/25 [00:02<00:00,  8.39it/s]\n",
            "  0%|          | 0/200 [00:00<?, ?it/s]"
          ],
          "name": "stderr"
        },
        {
          "output_type": "stream",
          "text": [
            "Train Acc: 0.202377 Train Loss: 2.021558\n",
            "  Val Acc: 0.217500   Val Loss: 1.988260\n",
            "==================== Epoch 3 ====================\n"
          ],
          "name": "stdout"
        },
        {
          "output_type": "stream",
          "text": [
            "Training: 100%|██████████| 200/200 [01:52<00:00,  1.78it/s]\n",
            "Validation: 100%|██████████| 25/25 [00:03<00:00,  8.16it/s]\n"
          ],
          "name": "stderr"
        },
        {
          "output_type": "stream",
          "text": [
            "Train Acc: 0.229434 Train Loss: 1.977546\n",
            "  Val Acc: 0.250000   Val Loss: 1.946545\n",
            "0.3725 0.31375\n",
            "0.3725 0.355\n",
            "0.3725 0.355\n",
            "receive from 2 [1.44072102e-03 2.70000000e+01 3.00000000e+00 1.40000000e+01\n",
            " 8.00000000e+00 8.00000000e+00 4.00000000e+00 2.60000000e+01\n",
            " 2.00000000e+00 1.22000000e+02 1.00000000e+00 3.72500000e-01]\n",
            "receive from 3 [1.44072102e-03 2.70000000e+01 3.00000000e+00 1.40000000e+01\n",
            " 8.00000000e+00 8.00000000e+00 4.00000000e+00 2.60000000e+01\n",
            " 2.00000000e+00 1.22000000e+02 1.00000000e+00 3.72500000e-01]\n",
            "break!!!!!! I loss my patience\n",
            "2 [1.44072102e-03 2.70000000e+01 3.00000000e+00 1.40000000e+01\n",
            " 8.00000000e+00 8.00000000e+00 4.00000000e+00 2.60000000e+01\n",
            " 2.00000000e+00 1.22000000e+02 1.00000000e+00 3.72500000e-01]\n",
            "-------------------- Iteration 3 --------------------\n",
            ".................... Particle 1 ....................\n"
          ],
          "name": "stdout"
        },
        {
          "output_type": "stream",
          "text": [
            "\r  0%|          | 0/200 [00:00<?, ?it/s]"
          ],
          "name": "stderr"
        },
        {
          "output_type": "stream",
          "text": [
            " learning_rate = 0.0011004982124353108 initial_size = 18 \n",
            " blocks_1 = 3 blocks_2 = 14 blocks_3 = 11 blocks_4 = 12 \n",
            " expansion = 4 hidden_size = 20 num_layers = 1\n",
            "==================== Epoch 1 ====================\n"
          ],
          "name": "stdout"
        },
        {
          "output_type": "stream",
          "text": [
            "Training: 100%|██████████| 200/200 [01:58<00:00,  1.69it/s]\n",
            "Validation: 100%|██████████| 25/25 [00:03<00:00,  6.67it/s]\n",
            "  0%|          | 0/200 [00:00<?, ?it/s]"
          ],
          "name": "stderr"
        },
        {
          "output_type": "stream",
          "text": [
            "Train Acc: 0.159055 Train Loss: 2.100030\n",
            "  Val Acc: 0.242500   Val Loss: 1.948263\n",
            "==================== Epoch 2 ====================\n"
          ],
          "name": "stdout"
        },
        {
          "output_type": "stream",
          "text": [
            "Training: 100%|██████████| 200/200 [01:57<00:00,  1.70it/s]\n",
            "Validation: 100%|██████████| 25/25 [00:03<00:00,  6.75it/s]\n",
            "  0%|          | 0/200 [00:00<?, ?it/s]"
          ],
          "name": "stderr"
        },
        {
          "output_type": "stream",
          "text": [
            "Train Acc: 0.199093 Train Loss: 2.014922\n",
            "  Val Acc: 0.236250   Val Loss: 1.913805\n",
            "==================== Epoch 3 ====================\n"
          ],
          "name": "stdout"
        },
        {
          "output_type": "stream",
          "text": [
            "Training: 100%|██████████| 200/200 [01:58<00:00,  1.69it/s]\n",
            "Validation: 100%|██████████| 25/25 [00:03<00:00,  6.84it/s]\n"
          ],
          "name": "stderr"
        },
        {
          "output_type": "stream",
          "text": [
            "Train Acc: 0.232405 Train Loss: 1.963020\n",
            "  Val Acc: 0.288750   Val Loss: 1.883135\n",
            ".................... Particle 2 ....................\n"
          ],
          "name": "stdout"
        },
        {
          "output_type": "stream",
          "text": [
            "\r  0%|          | 0/200 [00:00<?, ?it/s]"
          ],
          "name": "stderr"
        },
        {
          "output_type": "stream",
          "text": [
            " learning_rate = 0.0002810568589297524 initial_size = 29 \n",
            " blocks_1 = 1 blocks_2 = 15 blocks_3 = 9 blocks_4 = 2 \n",
            " expansion = 4 hidden_size = 39 num_layers = 2\n",
            "==================== Epoch 1 ====================\n"
          ],
          "name": "stdout"
        },
        {
          "output_type": "stream",
          "text": [
            "Training: 100%|██████████| 200/200 [02:06<00:00,  1.58it/s]\n",
            "Validation: 100%|██████████| 25/25 [00:03<00:00,  6.44it/s]\n",
            "  0%|          | 0/200 [00:00<?, ?it/s]"
          ],
          "name": "stderr"
        },
        {
          "output_type": "stream",
          "text": [
            "Train Acc: 0.133719 Train Loss: 2.172832\n",
            "  Val Acc: 0.128750   Val Loss: 2.068718\n",
            "==================== Epoch 2 ====================\n"
          ],
          "name": "stdout"
        },
        {
          "output_type": "stream",
          "text": [
            "Training: 100%|██████████| 200/200 [02:06<00:00,  1.59it/s]\n",
            "Validation: 100%|██████████| 25/25 [00:03<00:00,  6.46it/s]\n",
            "  0%|          | 0/200 [00:00<?, ?it/s]"
          ],
          "name": "stderr"
        },
        {
          "output_type": "stream",
          "text": [
            "Train Acc: 0.171411 Train Loss: 2.083198\n",
            "  Val Acc: 0.227500   Val Loss: 1.998478\n",
            "==================== Epoch 3 ====================\n"
          ],
          "name": "stdout"
        },
        {
          "output_type": "stream",
          "text": [
            "Training: 100%|██████████| 200/200 [02:06<00:00,  1.58it/s]\n",
            "Validation: 100%|██████████| 25/25 [00:03<00:00,  6.41it/s]\n"
          ],
          "name": "stderr"
        },
        {
          "output_type": "stream",
          "text": [
            "Train Acc: 0.214107 Train Loss: 2.011431\n",
            "  Val Acc: 0.242500   Val Loss: 1.934854\n",
            ".................... Particle 3 ....................\n"
          ],
          "name": "stdout"
        },
        {
          "output_type": "stream",
          "text": [
            "\r  0%|          | 0/200 [00:00<?, ?it/s]"
          ],
          "name": "stderr"
        },
        {
          "output_type": "stream",
          "text": [
            " learning_rate = 0.0008340587324781062 initial_size = 22 \n",
            " blocks_1 = 3 blocks_2 = 15 blocks_3 = 6 blocks_4 = 3 \n",
            " expansion = 4 hidden_size = 38 num_layers = 1\n",
            "==================== Epoch 1 ====================\n"
          ],
          "name": "stdout"
        },
        {
          "output_type": "stream",
          "text": [
            "Training: 100%|██████████| 200/200 [01:54<00:00,  1.75it/s]\n",
            "Validation: 100%|██████████| 25/25 [00:03<00:00,  6.77it/s]\n",
            "  0%|          | 0/200 [00:00<?, ?it/s]"
          ],
          "name": "stderr"
        },
        {
          "output_type": "stream",
          "text": [
            "Train Acc: 0.170316 Train Loss: 2.107193\n",
            "  Val Acc: 0.272500   Val Loss: 1.982152\n",
            "==================== Epoch 2 ====================\n"
          ],
          "name": "stdout"
        },
        {
          "output_type": "stream",
          "text": [
            "Training: 100%|██████████| 200/200 [01:54<00:00,  1.75it/s]\n",
            "Validation: 100%|██████████| 25/25 [00:03<00:00,  6.82it/s]\n",
            "  0%|          | 0/200 [00:00<?, ?it/s]"
          ],
          "name": "stderr"
        },
        {
          "output_type": "stream",
          "text": [
            "Train Acc: 0.275571 Train Loss: 1.911795\n",
            "  Val Acc: 0.371250   Val Loss: 1.729669\n",
            "==================== Epoch 3 ====================\n"
          ],
          "name": "stdout"
        },
        {
          "output_type": "stream",
          "text": [
            "Training: 100%|██████████| 200/200 [01:53<00:00,  1.76it/s]\n",
            "Validation: 100%|██████████| 25/25 [00:03<00:00,  6.94it/s]\n"
          ],
          "name": "stderr"
        },
        {
          "output_type": "stream",
          "text": [
            "Train Acc: 0.346731 Train Loss: 1.756386\n",
            "  Val Acc: 0.371250   Val Loss: 1.699852\n",
            ".................... Particle 4 ....................\n",
            " learning_rate = 0.0004553932818892743 initial_size = 30 \n",
            " blocks_1 = 3 blocks_2 = 14 blocks_3 = 12 blocks_4 = 5 \n",
            " expansion = 4 hidden_size = 27 num_layers = 2\n"
          ],
          "name": "stdout"
        },
        {
          "output_type": "stream",
          "text": [
            "\r  0%|          | 0/200 [00:00<?, ?it/s]"
          ],
          "name": "stderr"
        },
        {
          "output_type": "stream",
          "text": [
            "==================== Epoch 1 ====================\n"
          ],
          "name": "stdout"
        },
        {
          "output_type": "stream",
          "text": [
            "Training: 100%|██████████| 200/200 [02:16<00:00,  1.47it/s]\n",
            "Validation: 100%|██████████| 25/25 [00:04<00:00,  5.95it/s]\n",
            "  0%|          | 0/200 [00:00<?, ?it/s]"
          ],
          "name": "stderr"
        },
        {
          "output_type": "stream",
          "text": [
            "Train Acc: 0.162652 Train Loss: 2.122761\n",
            "  Val Acc: 0.210000   Val Loss: 1.981556\n",
            "==================== Epoch 2 ====================\n"
          ],
          "name": "stdout"
        },
        {
          "output_type": "stream",
          "text": [
            "Training: 100%|██████████| 200/200 [02:15<00:00,  1.47it/s]\n",
            "Validation: 100%|██████████| 25/25 [00:04<00:00,  6.00it/s]\n",
            "  0%|          | 0/200 [00:00<?, ?it/s]"
          ],
          "name": "stderr"
        },
        {
          "output_type": "stream",
          "text": [
            "Train Acc: 0.240069 Train Loss: 1.976100\n",
            "  Val Acc: 0.251250   Val Loss: 1.916994\n",
            "==================== Epoch 3 ====================\n"
          ],
          "name": "stdout"
        },
        {
          "output_type": "stream",
          "text": [
            "Training: 100%|██████████| 200/200 [02:15<00:00,  1.48it/s]\n",
            "Validation: 100%|██████████| 25/25 [00:04<00:00,  5.95it/s]\n"
          ],
          "name": "stderr"
        },
        {
          "output_type": "stream",
          "text": [
            "Train Acc: 0.266656 Train Loss: 1.894601\n",
            "  Val Acc: 0.352500   Val Loss: 1.783177\n",
            "0.3725 0.355\n",
            "0.3725 0.37125\n",
            "0.3725 0.37125\n",
            "receive from 2 [1.44072102e-03 2.70000000e+01 3.00000000e+00 1.40000000e+01\n",
            " 8.00000000e+00 8.00000000e+00 4.00000000e+00 2.60000000e+01\n",
            " 2.00000000e+00 1.22000000e+02 1.00000000e+00 3.72500000e-01]\n",
            "receive from 3 [1.44072102e-03 2.70000000e+01 3.00000000e+00 1.40000000e+01\n",
            " 8.00000000e+00 8.00000000e+00 4.00000000e+00 2.60000000e+01\n",
            " 2.00000000e+00 1.22000000e+02 1.00000000e+00 3.72500000e-01]\n",
            "break!!!!!! I loss my patience\n",
            "3 [1.44072102e-03 2.70000000e+01 3.00000000e+00 1.40000000e+01\n",
            " 8.00000000e+00 8.00000000e+00 4.00000000e+00 2.60000000e+01\n",
            " 2.00000000e+00 1.22000000e+02 1.00000000e+00 3.72500000e-01]\n",
            "-------------------- Iteration 4 --------------------\n",
            ".................... Particle 1 ....................\n",
            " learning_rate = 0.0009709898906329915 initial_size = 25 \n",
            " blocks_1 = 3 blocks_2 = 13 blocks_3 = 15 blocks_4 = 10 \n",
            " expansion = 4 hidden_size = 23 num_layers = 1\n"
          ],
          "name": "stdout"
        },
        {
          "output_type": "stream",
          "text": [
            "\r  0%|          | 0/200 [00:00<?, ?it/s]"
          ],
          "name": "stderr"
        },
        {
          "output_type": "stream",
          "text": [
            "==================== Epoch 1 ====================\n"
          ],
          "name": "stdout"
        },
        {
          "output_type": "stream",
          "text": [
            "Training: 100%|██████████| 200/200 [02:09<00:00,  1.55it/s]\n",
            "Validation: 100%|██████████| 25/25 [00:04<00:00,  6.14it/s]\n",
            "  0%|          | 0/200 [00:00<?, ?it/s]"
          ],
          "name": "stderr"
        },
        {
          "output_type": "stream",
          "text": [
            "Train Acc: 0.153269 Train Loss: 2.119911\n",
            "  Val Acc: 0.151250   Val Loss: 2.070866\n",
            "==================== Epoch 2 ====================\n"
          ],
          "name": "stdout"
        },
        {
          "output_type": "stream",
          "text": [
            "Training: 100%|██████████| 200/200 [02:08<00:00,  1.56it/s]\n",
            "Validation: 100%|██████████| 25/25 [00:04<00:00,  6.22it/s]\n",
            "  0%|          | 0/200 [00:00<?, ?it/s]"
          ],
          "name": "stderr"
        },
        {
          "output_type": "stream",
          "text": [
            "Train Acc: 0.196747 Train Loss: 2.026504\n",
            "  Val Acc: 0.260000   Val Loss: 1.977151\n",
            "==================== Epoch 3 ====================\n"
          ],
          "name": "stdout"
        },
        {
          "output_type": "stream",
          "text": [
            "Training: 100%|██████████| 200/200 [02:08<00:00,  1.55it/s]\n",
            "Validation: 100%|██████████| 25/25 [00:03<00:00,  6.29it/s]\n"
          ],
          "name": "stderr"
        },
        {
          "output_type": "stream",
          "text": [
            "Train Acc: 0.251955 Train Loss: 1.935667\n",
            "  Val Acc: 0.286250   Val Loss: 1.907399\n",
            ".................... Particle 2 ....................\n",
            "Mutation occur: 10.242421404843917 --> 38.902210894068304\n",
            " learning_rate = 0.0007406653500966158 initial_size = 38 \n",
            " blocks_1 = 4 blocks_2 = 13 blocks_3 = 8 blocks_4 = 5 \n",
            " expansion = 4 hidden_size = 29 num_layers = 2\n"
          ],
          "name": "stdout"
        },
        {
          "output_type": "stream",
          "text": [
            "\r  0%|          | 0/200 [00:00<?, ?it/s]"
          ],
          "name": "stderr"
        },
        {
          "output_type": "stream",
          "text": [
            "==================== Epoch 1 ====================\n"
          ],
          "name": "stdout"
        },
        {
          "output_type": "stream",
          "text": [
            "Training: 100%|██████████| 200/200 [03:10<00:00,  1.05it/s]\n",
            "Validation: 100%|██████████| 25/25 [00:05<00:00,  4.71it/s]\n",
            "  0%|          | 0/200 [00:00<?, ?it/s]"
          ],
          "name": "stderr"
        },
        {
          "output_type": "stream",
          "text": [
            "Train Acc: 0.172036 Train Loss: 2.099175\n",
            "  Val Acc: 0.247500   Val Loss: 1.945406\n",
            "==================== Epoch 2 ====================\n"
          ],
          "name": "stdout"
        },
        {
          "output_type": "stream",
          "text": [
            "Training: 100%|██████████| 200/200 [03:10<00:00,  1.05it/s]\n",
            "Validation: 100%|██████████| 25/25 [00:04<00:00,  5.00it/s]\n",
            "  0%|          | 0/200 [00:00<?, ?it/s]"
          ],
          "name": "stderr"
        },
        {
          "output_type": "stream",
          "text": [
            "Train Acc: 0.251017 Train Loss: 1.941845\n",
            "  Val Acc: 0.291250   Val Loss: 1.823195\n",
            "==================== Epoch 3 ====================\n"
          ],
          "name": "stdout"
        },
        {
          "output_type": "stream",
          "text": [
            "Training: 100%|██████████| 200/200 [03:10<00:00,  1.05it/s]\n",
            "Validation: 100%|██████████| 25/25 [00:05<00:00,  4.94it/s]\n"
          ],
          "name": "stderr"
        },
        {
          "output_type": "stream",
          "text": [
            "Train Acc: 0.319987 Train Loss: 1.808255\n",
            "  Val Acc: 0.340000   Val Loss: 1.726511\n",
            ".................... Particle 3 ....................\n"
          ],
          "name": "stdout"
        },
        {
          "output_type": "stream",
          "text": [
            "\r  0%|          | 0/200 [00:00<?, ?it/s]"
          ],
          "name": "stderr"
        },
        {
          "output_type": "stream",
          "text": [
            " learning_rate = 0.0010036837940620264 initial_size = 29 \n",
            " blocks_1 = 3 blocks_2 = 14 blocks_3 = 6 blocks_4 = 3 \n",
            " expansion = 4 hidden_size = 28 num_layers = 2\n",
            "==================== Epoch 1 ====================\n"
          ],
          "name": "stdout"
        },
        {
          "output_type": "stream",
          "text": [
            "Training: 100%|██████████| 200/200 [02:04<00:00,  1.61it/s]\n",
            "Validation: 100%|██████████| 25/25 [00:03<00:00,  6.53it/s]\n",
            "  0%|          | 0/200 [00:00<?, ?it/s]"
          ],
          "name": "stderr"
        },
        {
          "output_type": "stream",
          "text": [
            "Train Acc: 0.201282 Train Loss: 2.043005\n",
            "  Val Acc: 0.290000   Val Loss: 1.875218\n",
            "==================== Epoch 2 ====================\n"
          ],
          "name": "stdout"
        },
        {
          "output_type": "stream",
          "text": [
            "Training: 100%|██████████| 200/200 [02:04<00:00,  1.61it/s]\n",
            "Validation: 100%|██████████| 25/25 [00:03<00:00,  6.51it/s]\n",
            "  0%|          | 0/200 [00:00<?, ?it/s]"
          ],
          "name": "stderr"
        },
        {
          "output_type": "stream",
          "text": [
            "Train Acc: 0.293087 Train Loss: 1.838926\n",
            "  Val Acc: 0.335000   Val Loss: 1.835482\n",
            "==================== Epoch 3 ====================\n"
          ],
          "name": "stdout"
        },
        {
          "output_type": "stream",
          "text": [
            "Training: 100%|██████████| 200/200 [02:03<00:00,  1.62it/s]\n",
            "Validation: 100%|██████████| 25/25 [00:03<00:00,  6.39it/s]\n"
          ],
          "name": "stderr"
        },
        {
          "output_type": "stream",
          "text": [
            "Train Acc: 0.366281 Train Loss: 1.721234\n",
            "  Val Acc: 0.350000   Val Loss: 1.772489\n",
            ".................... Particle 4 ....................\n",
            " learning_rate = 0.0015530244007212909 initial_size = 43 \n",
            " blocks_1 = 3 blocks_2 = 14 blocks_3 = 9 blocks_4 = 6 \n",
            " expansion = 4 hidden_size = 26 num_layers = 2\n"
          ],
          "name": "stdout"
        },
        {
          "output_type": "stream",
          "text": [
            "\r  0%|          | 0/200 [00:00<?, ?it/s]"
          ],
          "name": "stderr"
        },
        {
          "output_type": "stream",
          "text": [
            "==================== Epoch 1 ====================\n"
          ],
          "name": "stdout"
        },
        {
          "output_type": "stream",
          "text": [
            "Training: 100%|██████████| 200/200 [02:40<00:00,  1.24it/s]\n",
            "Validation: 100%|██████████| 25/25 [00:05<00:00,  4.49it/s]\n",
            "  0%|          | 0/200 [00:00<?, ?it/s]"
          ],
          "name": "stderr"
        },
        {
          "output_type": "stream",
          "text": [
            "Train Acc: 0.178292 Train Loss: 2.081802\n",
            "  Val Acc: 0.233750   Val Loss: 1.934752\n",
            "==================== Epoch 2 ====================\n"
          ],
          "name": "stdout"
        },
        {
          "output_type": "stream",
          "text": [
            "Training: 100%|██████████| 200/200 [02:40<00:00,  1.25it/s]\n",
            "Validation: 100%|██████████| 25/25 [00:05<00:00,  4.53it/s]\n",
            "  0%|          | 0/200 [00:00<?, ?it/s]"
          ],
          "name": "stderr"
        },
        {
          "output_type": "stream",
          "text": [
            "Train Acc: 0.281670 Train Loss: 1.880586\n",
            "  Val Acc: 0.331250   Val Loss: 1.777330\n",
            "==================== Epoch 3 ====================\n"
          ],
          "name": "stdout"
        },
        {
          "output_type": "stream",
          "text": [
            "Training: 100%|██████████| 200/200 [02:40<00:00,  1.25it/s]\n",
            "Validation: 100%|██████████| 25/25 [00:05<00:00,  4.53it/s]\n"
          ],
          "name": "stderr"
        },
        {
          "output_type": "stream",
          "text": [
            "Train Acc: 0.348608 Train Loss: 1.751331\n",
            "  Val Acc: 0.350000   Val Loss: 1.703788\n",
            "receive from 2 [1.60889058e-03 3.30000000e+01 1.00000000e+00 1.30000000e+01\n",
            " 4.00000000e+00 6.00000000e+00 4.00000000e+00 2.60000000e+01\n",
            " 1.00000000e+00 8.10000000e+01 1.00000000e+00 3.75000000e-01]\n",
            "receive from 3 [1.44072102e-03 2.70000000e+01 3.00000000e+00 1.40000000e+01\n",
            " 8.00000000e+00 8.00000000e+00 4.00000000e+00 2.60000000e+01\n",
            " 2.00000000e+00 1.22000000e+02 1.00000000e+00 3.72500000e-01]\n",
            "break!!!!!! I loss my patience\n",
            "4 [1.60889058e-03 3.30000000e+01 1.00000000e+00 1.30000000e+01\n",
            " 4.00000000e+00 6.00000000e+00 4.00000000e+00 2.60000000e+01\n",
            " 1.00000000e+00 8.10000000e+01 1.00000000e+00 3.75000000e-01]\n",
            "-------------------- Iteration 5 --------------------\n",
            ".................... Particle 1 ....................\n",
            " learning_rate = 0.00130230595316154 initial_size = 36 \n",
            " blocks_1 = 2 blocks_2 = 13 blocks_3 = 3 blocks_4 = 7 \n",
            " expansion = 4 hidden_size = 24 num_layers = 1\n"
          ],
          "name": "stdout"
        },
        {
          "output_type": "stream",
          "text": [
            "\r  0%|          | 0/200 [00:00<?, ?it/s]"
          ],
          "name": "stderr"
        },
        {
          "output_type": "stream",
          "text": [
            "==================== Epoch 1 ====================\n"
          ],
          "name": "stdout"
        },
        {
          "output_type": "stream",
          "text": [
            "Training: 100%|██████████| 200/200 [02:27<00:00,  1.35it/s]\n",
            "Validation: 100%|██████████| 25/25 [00:04<00:00,  5.91it/s]\n",
            "  0%|          | 0/200 [00:00<?, ?it/s]"
          ],
          "name": "stderr"
        },
        {
          "output_type": "stream",
          "text": [
            "Train Acc: 0.170942 Train Loss: 2.079088\n",
            "  Val Acc: 0.210000   Val Loss: 1.985643\n",
            "==================== Epoch 2 ====================\n"
          ],
          "name": "stdout"
        },
        {
          "output_type": "stream",
          "text": [
            "Training: 100%|██████████| 200/200 [02:29<00:00,  1.34it/s]\n",
            "Validation: 100%|██████████| 25/25 [00:04<00:00,  5.95it/s]\n",
            "  0%|          | 0/200 [00:00<?, ?it/s]"
          ],
          "name": "stderr"
        },
        {
          "output_type": "stream",
          "text": [
            "Train Acc: 0.237723 Train Loss: 1.959839\n",
            "  Val Acc: 0.260000   Val Loss: 1.947558\n",
            "==================== Epoch 3 ====================\n"
          ],
          "name": "stdout"
        },
        {
          "output_type": "stream",
          "text": [
            "Training: 100%|██████████| 200/200 [02:29<00:00,  1.34it/s]\n",
            "Validation: 100%|██████████| 25/25 [00:04<00:00,  5.80it/s]\n"
          ],
          "name": "stderr"
        },
        {
          "output_type": "stream",
          "text": [
            "Train Acc: 0.266969 Train Loss: 1.899271\n",
            "  Val Acc: 0.263750   Val Loss: 1.918029\n",
            ".................... Particle 2 ....................\n"
          ],
          "name": "stdout"
        },
        {
          "output_type": "stream",
          "text": [
            "\r  0%|          | 0/200 [00:00<?, ?it/s]"
          ],
          "name": "stderr"
        },
        {
          "output_type": "stream",
          "text": [
            " learning_rate = 0.002776369249928815 initial_size = 5 \n",
            " blocks_1 = 2 blocks_2 = 14 blocks_3 = 1 blocks_4 = 2 \n",
            " expansion = 4 hidden_size = 23 num_layers = 1\n",
            "==================== Epoch 1 ====================\n"
          ],
          "name": "stdout"
        },
        {
          "output_type": "stream",
          "text": [
            "Training: 100%|██████████| 200/200 [01:46<00:00,  1.87it/s]\n",
            "Validation: 100%|██████████| 25/25 [00:02<00:00,  8.62it/s]\n",
            "  0%|          | 0/200 [00:00<?, ?it/s]"
          ],
          "name": "stderr"
        },
        {
          "output_type": "stream",
          "text": [
            "Train Acc: 0.246168 Train Loss: 1.951669\n",
            "  Val Acc: 0.332500   Val Loss: 1.746024\n",
            "==================== Epoch 2 ====================\n"
          ],
          "name": "stdout"
        },
        {
          "output_type": "stream",
          "text": [
            "Training: 100%|██████████| 200/200 [01:45<00:00,  1.90it/s]\n",
            "Validation: 100%|██████████| 25/25 [00:02<00:00,  8.86it/s]\n",
            "  0%|          | 0/200 [00:00<?, ?it/s]"
          ],
          "name": "stderr"
        },
        {
          "output_type": "stream",
          "text": [
            "Train Acc: 0.352362 Train Loss: 1.744045\n",
            "  Val Acc: 0.235000   Val Loss: 1.892126\n",
            "==================== Epoch 3 ====================\n"
          ],
          "name": "stdout"
        },
        {
          "output_type": "stream",
          "text": [
            "Training: 100%|██████████| 200/200 [01:45<00:00,  1.90it/s]\n",
            "Validation: 100%|██████████| 25/25 [00:02<00:00,  8.72it/s]\n"
          ],
          "name": "stderr"
        },
        {
          "output_type": "stream",
          "text": [
            "Train Acc: 0.390522 Train Loss: 1.677948\n",
            "  Val Acc: 0.390000   Val Loss: 1.610425\n",
            ".................... Particle 3 ....................\n",
            " learning_rate = 0.0019808948580570668 initial_size = 34 \n",
            " blocks_1 = 3 blocks_2 = 13 blocks_3 = 3 blocks_4 = 7 \n",
            " expansion = 4 hidden_size = 39 num_layers = 2\n"
          ],
          "name": "stdout"
        },
        {
          "output_type": "stream",
          "text": [
            "\r  0%|          | 0/200 [00:00<?, ?it/s]"
          ],
          "name": "stderr"
        },
        {
          "output_type": "stream",
          "text": [
            "==================== Epoch 1 ====================\n"
          ],
          "name": "stdout"
        },
        {
          "output_type": "stream",
          "text": [
            "Training: 100%|██████████| 200/200 [02:25<00:00,  1.37it/s]\n",
            "Validation: 100%|██████████| 25/25 [00:04<00:00,  5.74it/s]\n",
            "  0%|          | 0/200 [00:00<?, ?it/s]"
          ],
          "name": "stderr"
        },
        {
          "output_type": "stream",
          "text": [
            "Train Acc: 0.170160 Train Loss: 2.083711\n",
            "  Val Acc: 0.273750   Val Loss: 1.917992\n",
            "==================== Epoch 2 ====================\n"
          ],
          "name": "stdout"
        },
        {
          "output_type": "stream",
          "text": [
            "Training: 100%|██████████| 200/200 [02:28<00:00,  1.34it/s]\n",
            "Validation: 100%|██████████| 25/25 [00:04<00:00,  5.78it/s]\n",
            "  0%|          | 0/200 [00:00<?, ?it/s]"
          ],
          "name": "stderr"
        },
        {
          "output_type": "stream",
          "text": [
            "Train Acc: 0.316390 Train Loss: 1.840522\n",
            "  Val Acc: 0.277500   Val Loss: 1.806910\n",
            "==================== Epoch 3 ====================\n"
          ],
          "name": "stdout"
        },
        {
          "output_type": "stream",
          "text": [
            "Training: 100%|██████████| 200/200 [02:28<00:00,  1.35it/s]\n",
            "Validation: 100%|██████████| 25/25 [00:04<00:00,  5.70it/s]\n"
          ],
          "name": "stderr"
        },
        {
          "output_type": "stream",
          "text": [
            "Train Acc: 0.339537 Train Loss: 1.760136\n",
            "  Val Acc: 0.330000   Val Loss: 1.768445\n",
            ".................... Particle 4 ....................\n"
          ],
          "name": "stdout"
        },
        {
          "output_type": "stream",
          "text": [
            "\r  0%|          | 0/200 [00:00<?, ?it/s]"
          ],
          "name": "stderr"
        },
        {
          "output_type": "stream",
          "text": [
            " learning_rate = 0.0007832758337409453 initial_size = 19 \n",
            " blocks_1 = 4 blocks_2 = 13 blocks_3 = 7 blocks_4 = 2 \n",
            " expansion = 4 hidden_size = 25 num_layers = 1\n",
            "==================== Epoch 1 ====================\n"
          ],
          "name": "stdout"
        },
        {
          "output_type": "stream",
          "text": [
            "Training: 100%|██████████| 200/200 [01:50<00:00,  1.82it/s]\n",
            "Validation: 100%|██████████| 25/25 [00:03<00:00,  7.30it/s]\n",
            "  0%|          | 0/200 [00:00<?, ?it/s]"
          ],
          "name": "stderr"
        },
        {
          "output_type": "stream",
          "text": [
            "Train Acc: 0.159994 Train Loss: 2.103873\n",
            "  Val Acc: 0.226250   Val Loss: 1.989250\n",
            "==================== Epoch 2 ====================\n"
          ],
          "name": "stdout"
        },
        {
          "output_type": "stream",
          "text": [
            "Training: 100%|██████████| 200/200 [01:49<00:00,  1.82it/s]\n",
            "Validation: 100%|██████████| 25/25 [00:03<00:00,  7.38it/s]\n",
            "  0%|          | 0/200 [00:00<?, ?it/s]"
          ],
          "name": "stderr"
        },
        {
          "output_type": "stream",
          "text": [
            "Train Acc: 0.234126 Train Loss: 1.981484\n",
            "  Val Acc: 0.292500   Val Loss: 1.875563\n",
            "==================== Epoch 3 ====================\n"
          ],
          "name": "stdout"
        },
        {
          "output_type": "stream",
          "text": [
            "Training: 100%|██████████| 200/200 [01:49<00:00,  1.82it/s]\n",
            "Validation: 100%|██████████| 25/25 [00:03<00:00,  7.31it/s]\n"
          ],
          "name": "stderr"
        },
        {
          "output_type": "stream",
          "text": [
            "Train Acc: 0.308727 Train Loss: 1.850226\n",
            "  Val Acc: 0.332500   Val Loss: 1.803781\n",
            "0.375 0.39\n",
            "receive from 2 [1.57842885e-03 5.00000000e+01 1.00000000e+00 8.00000000e+00\n",
            " 4.00000000e+00 7.00000000e+00 4.00000000e+00 2.60000000e+01\n",
            " 1.00000000e+00 7.40000000e+01 1.00000000e+00 4.16250000e-01]\n",
            "break!!!!!! I loss my patience\n",
            "break!!!!!! I loss my patience\n",
            "5 [1.57842885e-03 5.00000000e+01 1.00000000e+00 8.00000000e+00\n",
            " 4.00000000e+00 7.00000000e+00 4.00000000e+00 2.60000000e+01\n",
            " 1.00000000e+00 7.40000000e+01 1.00000000e+00 4.16250000e-01]\n",
            "-------------------- Iteration 6 --------------------\n",
            ".................... Particle 1 ....................\n",
            " learning_rate = 0.0012084845431880177 initial_size = 40 \n",
            " blocks_1 = 1 blocks_2 = 12 blocks_3 = 1 blocks_4 = 14 \n",
            " expansion = 4 hidden_size = 22 num_layers = 1\n"
          ],
          "name": "stdout"
        },
        {
          "output_type": "stream",
          "text": [
            "\r  0%|          | 0/200 [00:00<?, ?it/s]"
          ],
          "name": "stderr"
        },
        {
          "output_type": "stream",
          "text": [
            "==================== Epoch 1 ====================\n"
          ],
          "name": "stdout"
        },
        {
          "output_type": "stream",
          "text": [
            "Training: 100%|██████████| 200/200 [02:30<00:00,  1.33it/s]\n",
            "Validation: 100%|██████████| 25/25 [00:04<00:00,  5.56it/s]\n",
            "  0%|          | 0/200 [00:00<?, ?it/s]"
          ],
          "name": "stderr"
        },
        {
          "output_type": "stream",
          "text": [
            "Train Acc: 0.170160 Train Loss: 2.087407\n",
            "  Val Acc: 0.242500   Val Loss: 1.920341\n",
            "==================== Epoch 2 ====================\n"
          ],
          "name": "stdout"
        },
        {
          "output_type": "stream",
          "text": [
            "Training: 100%|██████████| 200/200 [02:36<00:00,  1.28it/s]\n",
            "Validation: 100%|██████████| 25/25 [00:04<00:00,  5.52it/s]\n",
            "  0%|          | 0/200 [00:00<?, ?it/s]"
          ],
          "name": "stderr"
        },
        {
          "output_type": "stream",
          "text": [
            "Train Acc: 0.275571 Train Loss: 1.899074\n",
            "  Val Acc: 0.323750   Val Loss: 1.732723\n",
            "==================== Epoch 3 ====================\n"
          ],
          "name": "stdout"
        },
        {
          "output_type": "stream",
          "text": [
            "Training: 100%|██████████| 200/200 [02:35<00:00,  1.28it/s]\n",
            "Validation: 100%|██████████| 25/25 [00:04<00:00,  5.51it/s]\n"
          ],
          "name": "stderr"
        },
        {
          "output_type": "stream",
          "text": [
            "Train Acc: 0.323428 Train Loss: 1.790891\n",
            "  Val Acc: 0.353750   Val Loss: 1.733587\n",
            ".................... Particle 2 ....................\n"
          ],
          "name": "stdout"
        },
        {
          "output_type": "stream",
          "text": [
            "\r  0%|          | 0/200 [00:00<?, ?it/s]"
          ],
          "name": "stderr"
        },
        {
          "output_type": "stream",
          "text": [
            " learning_rate = 0.003191886685636569 initial_size = 52 \n",
            " blocks_1 = 3 blocks_2 = 13 blocks_3 = 1 blocks_4 = 1 \n",
            " expansion = 4 hidden_size = 22 num_layers = 2\n",
            "==================== Epoch 1 ====================\n"
          ],
          "name": "stdout"
        },
        {
          "output_type": "stream",
          "text": [
            "Training: 100%|██████████| 200/200 [02:01<00:00,  1.64it/s]\n",
            "Validation: 100%|██████████| 25/25 [00:05<00:00,  4.78it/s]\n",
            "  0%|          | 0/200 [00:00<?, ?it/s]"
          ],
          "name": "stderr"
        },
        {
          "output_type": "stream",
          "text": [
            "Train Acc: 0.210666 Train Loss: 2.004853\n",
            "  Val Acc: 0.288750   Val Loss: 1.847732\n",
            "==================== Epoch 2 ====================\n"
          ],
          "name": "stdout"
        },
        {
          "output_type": "stream",
          "text": [
            "Training: 100%|██████████| 200/200 [02:01<00:00,  1.65it/s]\n",
            "Validation: 100%|██████████| 25/25 [00:05<00:00,  4.89it/s]\n",
            "  0%|          | 0/200 [00:00<?, ?it/s]"
          ],
          "name": "stderr"
        },
        {
          "output_type": "stream",
          "text": [
            "Train Acc: 0.319518 Train Loss: 1.824562\n",
            "  Val Acc: 0.243750   Val Loss: 2.039302\n",
            "==================== Epoch 3 ====================\n"
          ],
          "name": "stdout"
        },
        {
          "output_type": "stream",
          "text": [
            "Training: 100%|██████████| 200/200 [02:00<00:00,  1.66it/s]\n",
            "Validation: 100%|██████████| 25/25 [00:05<00:00,  4.82it/s]\n"
          ],
          "name": "stderr"
        },
        {
          "output_type": "stream",
          "text": [
            "Train Acc: 0.335158 Train Loss: 1.788237\n",
            "  Val Acc: 0.307500   Val Loss: 1.804242\n",
            ".................... Particle 3 ....................\n",
            " learning_rate = 0.0003758998921130801 initial_size = 39 \n",
            " blocks_1 = 2 blocks_2 = 13 blocks_3 = 5 blocks_4 = 7 \n",
            " expansion = 4 hidden_size = 25 num_layers = 1\n"
          ],
          "name": "stdout"
        },
        {
          "output_type": "stream",
          "text": [
            "\r  0%|          | 0/200 [00:00<?, ?it/s]"
          ],
          "name": "stderr"
        },
        {
          "output_type": "stream",
          "text": [
            "==================== Epoch 1 ====================\n"
          ],
          "name": "stdout"
        },
        {
          "output_type": "stream",
          "text": [
            "Training: 100%|██████████| 200/200 [02:55<00:00,  1.14it/s]\n",
            "Validation: 100%|██████████| 25/25 [00:04<00:00,  5.34it/s]\n",
            "  0%|          | 0/200 [00:00<?, ?it/s]"
          ],
          "name": "stderr"
        },
        {
          "output_type": "stream",
          "text": [
            "Train Acc: 0.150454 Train Loss: 2.142159\n",
            "  Val Acc: 0.172500   Val Loss: 2.061768\n",
            "==================== Epoch 2 ====================\n"
          ],
          "name": "stdout"
        },
        {
          "output_type": "stream",
          "text": [
            "Training: 100%|██████████| 200/200 [02:54<00:00,  1.15it/s]\n",
            "Validation: 100%|██████████| 25/25 [00:04<00:00,  5.35it/s]\n",
            "  0%|          | 0/200 [00:00<?, ?it/s]"
          ],
          "name": "stderr"
        },
        {
          "output_type": "stream",
          "text": [
            "Train Acc: 0.178136 Train Loss: 2.062622\n",
            "  Val Acc: 0.230000   Val Loss: 1.990958\n",
            "==================== Epoch 3 ====================\n"
          ],
          "name": "stdout"
        },
        {
          "output_type": "stream",
          "text": [
            "Training: 100%|██████████| 200/200 [02:54<00:00,  1.14it/s]\n",
            "Validation: 100%|██████████| 25/25 [00:04<00:00,  5.43it/s]\n"
          ],
          "name": "stderr"
        },
        {
          "output_type": "stream",
          "text": [
            "Train Acc: 0.234908 Train Loss: 1.975038\n",
            "  Val Acc: 0.283750   Val Loss: 1.932160\n",
            ".................... Particle 4 ....................\n",
            " learning_rate = 0.0014905423380531645 initial_size = 30 \n",
            " blocks_1 = 1 blocks_2 = 6 blocks_3 = 2 blocks_4 = 10 \n",
            " expansion = 4 hidden_size = 25 num_layers = 2\n"
          ],
          "name": "stdout"
        },
        {
          "output_type": "stream",
          "text": [
            "\r  0%|          | 0/200 [00:00<?, ?it/s]"
          ],
          "name": "stderr"
        },
        {
          "output_type": "stream",
          "text": [
            "==================== Epoch 1 ====================\n"
          ],
          "name": "stdout"
        },
        {
          "output_type": "stream",
          "text": [
            "Training: 100%|██████████| 200/200 [01:50<00:00,  1.81it/s]\n",
            "Validation: 100%|██████████| 25/25 [00:03<00:00,  7.44it/s]\n",
            "  0%|          | 0/200 [00:00<?, ?it/s]"
          ],
          "name": "stderr"
        },
        {
          "output_type": "stream",
          "text": [
            "Train Acc: 0.170472 Train Loss: 2.080336\n",
            "  Val Acc: 0.238750   Val Loss: 1.959227\n",
            "==================== Epoch 2 ====================\n"
          ],
          "name": "stdout"
        },
        {
          "output_type": "stream",
          "text": [
            "Training: 100%|██████████| 200/200 [01:49<00:00,  1.83it/s]\n",
            "Validation: 100%|██████████| 25/25 [00:03<00:00,  7.51it/s]\n",
            "  0%|          | 0/200 [00:00<?, ?it/s]"
          ],
          "name": "stderr"
        },
        {
          "output_type": "stream",
          "text": [
            "Train Acc: 0.256490 Train Loss: 1.916526\n",
            "  Val Acc: 0.296250   Val Loss: 1.836978\n",
            "==================== Epoch 3 ====================\n"
          ],
          "name": "stdout"
        },
        {
          "output_type": "stream",
          "text": [
            "Training: 100%|██████████| 200/200 [01:48<00:00,  1.84it/s]\n",
            "Validation: 100%|██████████| 25/25 [00:03<00:00,  7.45it/s]\n"
          ],
          "name": "stderr"
        },
        {
          "output_type": "stream",
          "text": [
            "Train Acc: 0.309509 Train Loss: 1.812768\n",
            "  Val Acc: 0.326250   Val Loss: 1.765112\n",
            "0.41625 0.39\n",
            "receive from 2 [1.57842885e-03 5.00000000e+01 1.00000000e+00 8.00000000e+00\n",
            " 4.00000000e+00 7.00000000e+00 4.00000000e+00 2.60000000e+01\n",
            " 1.00000000e+00 7.40000000e+01 1.00000000e+00 4.16250000e-01]\n",
            "break!!!!!! I loss my patience\n",
            "break!!!!!! I loss my patience\n",
            "6 [1.57842885e-03 5.00000000e+01 1.00000000e+00 8.00000000e+00\n",
            " 4.00000000e+00 7.00000000e+00 4.00000000e+00 2.60000000e+01\n",
            " 1.00000000e+00 7.40000000e+01 1.00000000e+00 4.16250000e-01]\n",
            "-------------------- Iteration 7 --------------------\n",
            ".................... Particle 1 ....................\n",
            "Mutation occur: 5.685579158208387 --> 25.306613465640634\n",
            " learning_rate = 0.0017130868563798446 initial_size = 52 \n",
            " blocks_1 = 1 blocks_2 = 6 blocks_3 = 25 blocks_4 = 12 \n",
            " expansion = 4 hidden_size = 24 num_layers = 1\n"
          ],
          "name": "stdout"
        },
        {
          "output_type": "stream",
          "text": [
            "\r  0%|          | 0/200 [00:00<?, ?it/s]"
          ],
          "name": "stderr"
        },
        {
          "output_type": "stream",
          "text": [
            "==================== Epoch 1 ====================\n"
          ],
          "name": "stdout"
        },
        {
          "output_type": "stream",
          "text": [
            "Training: 100%|██████████| 200/200 [02:57<00:00,  1.13it/s]\n",
            "Validation: 100%|██████████| 25/25 [00:07<00:00,  3.36it/s]\n",
            "  0%|          | 0/200 [00:00<?, ?it/s]"
          ],
          "name": "stderr"
        },
        {
          "output_type": "stream",
          "text": [
            "Train Acc: 0.136065 Train Loss: 2.126011\n",
            "  Val Acc: 0.172500   Val Loss: 2.054936\n",
            "==================== Epoch 2 ====================\n"
          ],
          "name": "stdout"
        },
        {
          "output_type": "stream",
          "text": [
            "Training: 100%|██████████| 200/200 [02:57<00:00,  1.13it/s]\n",
            "Validation: 100%|██████████| 25/25 [00:07<00:00,  3.33it/s]\n",
            "  0%|          | 0/200 [00:00<?, ?it/s]"
          ],
          "name": "stderr"
        },
        {
          "output_type": "stream",
          "text": [
            "Train Acc: 0.212543 Train Loss: 2.003558\n",
            "  Val Acc: 0.227500   Val Loss: 1.950035\n",
            "==================== Epoch 3 ====================\n"
          ],
          "name": "stdout"
        },
        {
          "output_type": "stream",
          "text": [
            "Training: 100%|██████████| 200/200 [02:57<00:00,  1.13it/s]\n",
            "Validation: 100%|██████████| 25/25 [00:07<00:00,  3.32it/s]\n"
          ],
          "name": "stderr"
        },
        {
          "output_type": "stream",
          "text": [
            "Train Acc: 0.266031 Train Loss: 1.903118\n",
            "  Val Acc: 0.285000   Val Loss: 1.840557\n",
            ".................... Particle 2 ....................\n",
            " learning_rate = 0.0023080383384994083 initial_size = 24 \n",
            " blocks_1 = 3 blocks_2 = 4 blocks_3 = 4 blocks_4 = 12 \n",
            " expansion = 4 hidden_size = 26 num_layers = 1\n"
          ],
          "name": "stdout"
        },
        {
          "output_type": "stream",
          "text": [
            "\r  0%|          | 0/200 [00:00<?, ?it/s]"
          ],
          "name": "stderr"
        },
        {
          "output_type": "stream",
          "text": [
            "==================== Epoch 1 ====================\n"
          ],
          "name": "stdout"
        },
        {
          "output_type": "stream",
          "text": [
            "Training: 100%|██████████| 200/200 [01:48<00:00,  1.84it/s]\n",
            "Validation: 100%|██████████| 25/25 [00:03<00:00,  7.32it/s]\n",
            "  0%|          | 0/200 [00:00<?, ?it/s]"
          ],
          "name": "stderr"
        },
        {
          "output_type": "stream",
          "text": [
            "Train Acc: 0.200344 Train Loss: 2.032521\n",
            "  Val Acc: 0.235000   Val Loss: 1.954850\n",
            "==================== Epoch 2 ====================\n"
          ],
          "name": "stdout"
        },
        {
          "output_type": "stream",
          "text": [
            "Training: 100%|██████████| 200/200 [01:48<00:00,  1.85it/s]\n",
            "Validation: 100%|██████████| 25/25 [00:03<00:00,  7.47it/s]\n",
            "  0%|          | 0/200 [00:00<?, ?it/s]"
          ],
          "name": "stderr"
        },
        {
          "output_type": "stream",
          "text": [
            "Train Acc: 0.288083 Train Loss: 1.845897\n",
            "  Val Acc: 0.372500   Val Loss: 1.754043\n",
            "==================== Epoch 3 ====================\n"
          ],
          "name": "stdout"
        },
        {
          "output_type": "stream",
          "text": [
            "Training: 100%|██████████| 200/200 [01:48<00:00,  1.84it/s]\n",
            "Validation: 100%|██████████| 25/25 [00:03<00:00,  7.48it/s]\n"
          ],
          "name": "stderr"
        },
        {
          "output_type": "stream",
          "text": [
            "Train Acc: 0.335627 Train Loss: 1.777888\n",
            "  Val Acc: 0.363750   Val Loss: 1.700161\n",
            ".................... Particle 3 ....................\n"
          ],
          "name": "stdout"
        },
        {
          "output_type": "stream",
          "text": [
            "\r  0%|          | 0/200 [00:00<?, ?it/s]"
          ],
          "name": "stderr"
        },
        {
          "output_type": "stream",
          "text": [
            " learning_rate = 0.0005343963222023355 initial_size = 38 \n",
            " blocks_1 = 1 blocks_2 = 7 blocks_3 = 5 blocks_4 = 2 \n",
            " expansion = 4 hidden_size = 36 num_layers = 2\n",
            "==================== Epoch 1 ====================\n"
          ],
          "name": "stdout"
        },
        {
          "output_type": "stream",
          "text": [
            "Training: 100%|██████████| 200/200 [01:57<00:00,  1.70it/s]\n",
            "Validation: 100%|██████████| 25/25 [00:03<00:00,  6.80it/s]\n",
            "  0%|          | 0/200 [00:00<?, ?it/s]"
          ],
          "name": "stderr"
        },
        {
          "output_type": "stream",
          "text": [
            "Train Acc: 0.189396 Train Loss: 2.066746\n",
            "  Val Acc: 0.280000   Val Loss: 1.938091\n",
            "==================== Epoch 2 ====================\n"
          ],
          "name": "stdout"
        },
        {
          "output_type": "stream",
          "text": [
            "Training: 100%|██████████| 200/200 [01:56<00:00,  1.72it/s]\n",
            "Validation: 100%|██████████| 25/25 [00:03<00:00,  7.00it/s]\n",
            "  0%|          | 0/200 [00:00<?, ?it/s]"
          ],
          "name": "stderr"
        },
        {
          "output_type": "stream",
          "text": [
            "Train Acc: 0.287770 Train Loss: 1.871983\n",
            "  Val Acc: 0.341250   Val Loss: 1.790287\n",
            "==================== Epoch 3 ====================\n"
          ],
          "name": "stdout"
        },
        {
          "output_type": "stream",
          "text": [
            "Training: 100%|██████████| 200/200 [01:57<00:00,  1.71it/s]\n",
            "Validation: 100%|██████████| 25/25 [00:03<00:00,  7.03it/s]\n"
          ],
          "name": "stderr"
        },
        {
          "output_type": "stream",
          "text": [
            "Train Acc: 0.353456 Train Loss: 1.731540\n",
            "  Val Acc: 0.358750   Val Loss: 1.638083\n",
            ".................... Particle 4 ....................\n",
            " learning_rate = 0.0024575931083036144 initial_size = 51 \n",
            " blocks_1 = 1 blocks_2 = 12 blocks_3 = 15 blocks_4 = 7 \n",
            " expansion = 4 hidden_size = 29 num_layers = 2\n"
          ],
          "name": "stdout"
        },
        {
          "output_type": "stream",
          "text": [
            "\r  0%|          | 0/200 [00:00<?, ?it/s]"
          ],
          "name": "stderr"
        },
        {
          "output_type": "stream",
          "text": [
            "==================== Epoch 1 ====================\n"
          ],
          "name": "stdout"
        },
        {
          "output_type": "stream",
          "text": [
            "Training: 100%|██████████| 200/200 [02:38<00:00,  1.26it/s]\n",
            "Validation: 100%|██████████| 25/25 [00:06<00:00,  3.77it/s]\n",
            "  0%|          | 0/200 [00:00<?, ?it/s]"
          ],
          "name": "stderr"
        },
        {
          "output_type": "stream",
          "text": [
            "Train Acc: 0.163122 Train Loss: 2.102273\n",
            "  Val Acc: 0.201250   Val Loss: 2.038676\n",
            "==================== Epoch 2 ====================\n"
          ],
          "name": "stdout"
        },
        {
          "output_type": "stream",
          "text": [
            "Training: 100%|██████████| 200/200 [02:38<00:00,  1.27it/s]\n",
            "Validation: 100%|██████████| 25/25 [00:06<00:00,  3.74it/s]\n",
            "  0%|          | 0/200 [00:00<?, ?it/s]"
          ],
          "name": "stderr"
        },
        {
          "output_type": "stream",
          "text": [
            "Train Acc: 0.274163 Train Loss: 1.890117\n",
            "  Val Acc: 0.232500   Val Loss: 2.222393\n",
            "==================== Epoch 3 ====================\n"
          ],
          "name": "stdout"
        },
        {
          "output_type": "stream",
          "text": [
            "Training: 100%|██████████| 200/200 [02:37<00:00,  1.27it/s]\n",
            "Validation: 100%|██████████| 25/25 [00:06<00:00,  3.75it/s]\n"
          ],
          "name": "stderr"
        },
        {
          "output_type": "stream",
          "text": [
            "Train Acc: 0.333907 Train Loss: 1.766419\n",
            "  Val Acc: 0.326250   Val Loss: 1.776303\n",
            "receive from 2 [1.57842885e-03 5.00000000e+01 1.00000000e+00 8.00000000e+00\n",
            " 4.00000000e+00 7.00000000e+00 4.00000000e+00 2.60000000e+01\n",
            " 1.00000000e+00 7.40000000e+01 1.00000000e+00 4.16250000e-01]\n",
            "break!!!!!! I loss my patience\n",
            "break!!!!!! I loss my patience\n",
            "7 [1.57842885e-03 5.00000000e+01 1.00000000e+00 8.00000000e+00\n",
            " 4.00000000e+00 7.00000000e+00 4.00000000e+00 2.60000000e+01\n",
            " 1.00000000e+00 7.40000000e+01 1.00000000e+00 4.16250000e-01]\n",
            "-------------------- Iteration 8 --------------------\n",
            ".................... Particle 1 ....................\n",
            " learning_rate = 0.0013651385642707405 initial_size = 44 \n",
            " blocks_1 = 3 blocks_2 = 7 blocks_3 = 5 blocks_4 = 13 \n",
            " expansion = 4 hidden_size = 26 num_layers = 1\n"
          ],
          "name": "stdout"
        },
        {
          "output_type": "stream",
          "text": [
            "\r  0%|          | 0/200 [00:00<?, ?it/s]"
          ],
          "name": "stderr"
        },
        {
          "output_type": "stream",
          "text": [
            "==================== Epoch 1 ====================\n"
          ],
          "name": "stdout"
        },
        {
          "output_type": "stream",
          "text": [
            "Training: 100%|██████████| 200/200 [02:12<00:00,  1.51it/s]\n",
            "Validation: 100%|██████████| 25/25 [00:05<00:00,  4.92it/s]\n",
            "  0%|          | 0/200 [00:00<?, ?it/s]"
          ],
          "name": "stderr"
        },
        {
          "output_type": "stream",
          "text": [
            "Train Acc: 0.164998 Train Loss: 2.098808\n",
            "  Val Acc: 0.183750   Val Loss: 2.006541\n",
            "==================== Epoch 2 ====================\n"
          ],
          "name": "stdout"
        },
        {
          "output_type": "stream",
          "text": [
            "Training: 100%|██████████| 200/200 [02:12<00:00,  1.51it/s]\n",
            "Validation: 100%|██████████| 25/25 [00:05<00:00,  4.82it/s]\n",
            "  0%|          | 0/200 [00:00<?, ?it/s]"
          ],
          "name": "stderr"
        },
        {
          "output_type": "stream",
          "text": [
            "Train Acc: 0.228965 Train Loss: 1.965832\n",
            "  Val Acc: 0.292500   Val Loss: 1.843624\n",
            "==================== Epoch 3 ====================\n"
          ],
          "name": "stdout"
        },
        {
          "output_type": "stream",
          "text": [
            "Training: 100%|██████████| 200/200 [02:12<00:00,  1.51it/s]\n",
            "Validation: 100%|██████████| 25/25 [00:05<00:00,  4.80it/s]\n"
          ],
          "name": "stderr"
        },
        {
          "output_type": "stream",
          "text": [
            "Train Acc: 0.316390 Train Loss: 1.850632\n",
            "  Val Acc: 0.336250   Val Loss: 1.766057\n",
            ".................... Particle 2 ....................\n"
          ],
          "name": "stdout"
        },
        {
          "output_type": "stream",
          "text": [
            "\r  0%|          | 0/200 [00:00<?, ?it/s]"
          ],
          "name": "stderr"
        },
        {
          "output_type": "stream",
          "text": [
            " learning_rate = 0.0018907633305669579 initial_size = 19 \n",
            " blocks_1 = 4 blocks_2 = 10 blocks_3 = 3 blocks_4 = 7 \n",
            " expansion = 4 hidden_size = 24 num_layers = 2\n",
            "==================== Epoch 1 ====================\n"
          ],
          "name": "stdout"
        },
        {
          "output_type": "stream",
          "text": [
            "Training: 100%|██████████| 200/200 [01:52<00:00,  1.79it/s]\n",
            "Validation: 100%|██████████| 25/25 [00:03<00:00,  7.18it/s]\n",
            "  0%|          | 0/200 [00:00<?, ?it/s]"
          ],
          "name": "stderr"
        },
        {
          "output_type": "stream",
          "text": [
            "Train Acc: 0.206756 Train Loss: 2.025190\n",
            "  Val Acc: 0.291250   Val Loss: 1.890950\n",
            "==================== Epoch 2 ====================\n"
          ],
          "name": "stdout"
        },
        {
          "output_type": "stream",
          "text": [
            "Training: 100%|██████████| 200/200 [01:50<00:00,  1.80it/s]\n",
            "Validation: 100%|██████████| 25/25 [00:03<00:00,  7.16it/s]\n",
            "  0%|          | 0/200 [00:00<?, ?it/s]"
          ],
          "name": "stderr"
        },
        {
          "output_type": "stream",
          "text": [
            "Train Acc: 0.309040 Train Loss: 1.816905\n",
            "  Val Acc: 0.355000   Val Loss: 1.702999\n",
            "==================== Epoch 3 ====================\n"
          ],
          "name": "stdout"
        },
        {
          "output_type": "stream",
          "text": [
            "Training: 100%|██████████| 200/200 [01:50<00:00,  1.82it/s]\n",
            "Validation: 100%|██████████| 25/25 [00:03<00:00,  7.31it/s]\n"
          ],
          "name": "stderr"
        },
        {
          "output_type": "stream",
          "text": [
            "Train Acc: 0.333907 Train Loss: 1.759396\n",
            "  Val Acc: 0.315000   Val Loss: 1.887308\n",
            ".................... Particle 3 ....................\n"
          ],
          "name": "stdout"
        },
        {
          "output_type": "stream",
          "text": [
            "\r  0%|          | 0/200 [00:00<?, ?it/s]"
          ],
          "name": "stderr"
        },
        {
          "output_type": "stream",
          "text": [
            " learning_rate = 0.002891408914940107 initial_size = 14 \n",
            " blocks_1 = 4 blocks_2 = 9 blocks_3 = 4 blocks_4 = 8 \n",
            " expansion = 4 hidden_size = 37 num_layers = 1\n",
            "==================== Epoch 1 ====================\n"
          ],
          "name": "stdout"
        },
        {
          "output_type": "stream",
          "text": [
            "Training: 100%|██████████| 200/200 [01:50<00:00,  1.81it/s]\n",
            "Validation: 100%|██████████| 25/25 [00:03<00:00,  7.25it/s]\n",
            "  0%|          | 0/200 [00:00<?, ?it/s]"
          ],
          "name": "stderr"
        },
        {
          "output_type": "stream",
          "text": [
            "Train Acc: 0.172505 Train Loss: 2.070724\n",
            "  Val Acc: 0.237500   Val Loss: 1.963000\n",
            "==================== Epoch 2 ====================\n"
          ],
          "name": "stdout"
        },
        {
          "output_type": "stream",
          "text": [
            "Training: 100%|██████████| 200/200 [01:50<00:00,  1.81it/s]\n",
            "Validation: 100%|██████████| 25/25 [00:03<00:00,  7.46it/s]\n",
            "  0%|          | 0/200 [00:00<?, ?it/s]"
          ],
          "name": "stderr"
        },
        {
          "output_type": "stream",
          "text": [
            "Train Acc: 0.277291 Train Loss: 1.902512\n",
            "  Val Acc: 0.305000   Val Loss: 1.862243\n",
            "==================== Epoch 3 ====================\n"
          ],
          "name": "stdout"
        },
        {
          "output_type": "stream",
          "text": [
            "Training: 100%|██████████| 200/200 [01:49<00:00,  1.83it/s]\n",
            "Validation: 100%|██████████| 25/25 [00:03<00:00,  7.46it/s]\n"
          ],
          "name": "stderr"
        },
        {
          "output_type": "stream",
          "text": [
            "Train Acc: 0.319675 Train Loss: 1.810523\n",
            "  Val Acc: 0.352500   Val Loss: 1.757089\n",
            ".................... Particle 4 ....................\n"
          ],
          "name": "stdout"
        },
        {
          "output_type": "stream",
          "text": [
            "\r  0%|          | 0/200 [00:00<?, ?it/s]"
          ],
          "name": "stderr"
        },
        {
          "output_type": "stream",
          "text": [
            " learning_rate = 0.0022408543423857665 initial_size = 22 \n",
            " blocks_1 = 2 blocks_2 = 14 blocks_3 = 7 blocks_4 = 4 \n",
            " expansion = 4 hidden_size = 29 num_layers = 2\n",
            "==================== Epoch 1 ====================\n"
          ],
          "name": "stdout"
        },
        {
          "output_type": "stream",
          "text": [
            "Training: 100%|██████████| 200/200 [01:53<00:00,  1.77it/s]\n",
            "Validation: 100%|██████████| 25/25 [00:03<00:00,  6.74it/s]\n",
            "  0%|          | 0/200 [00:00<?, ?it/s]"
          ],
          "name": "stderr"
        },
        {
          "output_type": "stream",
          "text": [
            "Train Acc: 0.181420 Train Loss: 2.062817\n",
            "  Val Acc: 0.216250   Val Loss: 1.970276\n",
            "==================== Epoch 2 ====================\n"
          ],
          "name": "stdout"
        },
        {
          "output_type": "stream",
          "text": [
            "Training: 100%|██████████| 200/200 [01:52<00:00,  1.77it/s]\n",
            "Validation: 100%|██████████| 25/25 [00:03<00:00,  6.71it/s]\n",
            "  0%|          | 0/200 [00:00<?, ?it/s]"
          ],
          "name": "stderr"
        },
        {
          "output_type": "stream",
          "text": [
            "Train Acc: 0.277448 Train Loss: 1.890803\n",
            "  Val Acc: 0.327500   Val Loss: 1.776917\n",
            "==================== Epoch 3 ====================\n"
          ],
          "name": "stdout"
        },
        {
          "output_type": "stream",
          "text": [
            "Training: 100%|██████████| 200/200 [01:52<00:00,  1.78it/s]\n",
            "Validation: 100%|██████████| 25/25 [00:03<00:00,  6.66it/s]\n"
          ],
          "name": "stderr"
        },
        {
          "output_type": "stream",
          "text": [
            "Train Acc: 0.332968 Train Loss: 1.778027\n",
            "  Val Acc: 0.385000   Val Loss: 1.660724\n",
            "0.41625 0.39\n",
            "receive from 2 [1.57842885e-03 5.00000000e+01 1.00000000e+00 8.00000000e+00\n",
            " 4.00000000e+00 7.00000000e+00 4.00000000e+00 2.60000000e+01\n",
            " 1.00000000e+00 7.40000000e+01 1.00000000e+00 4.16250000e-01]\n",
            "break!!!!!! I loss my patience\n",
            "break!!!!!! I loss my patience\n",
            "8 [1.57842885e-03 5.00000000e+01 1.00000000e+00 8.00000000e+00\n",
            " 4.00000000e+00 7.00000000e+00 4.00000000e+00 2.60000000e+01\n",
            " 1.00000000e+00 7.40000000e+01 1.00000000e+00 4.16250000e-01]\n",
            "-------------------- Iteration 9 --------------------\n",
            ".................... Particle 1 ....................\n",
            " learning_rate = 0.0011964014465101372 initial_size = 41 \n",
            " blocks_1 = 1 blocks_2 = 12 blocks_3 = 7 blocks_4 = 12 \n",
            " expansion = 4 hidden_size = 22 num_layers = 1\n"
          ],
          "name": "stdout"
        },
        {
          "output_type": "stream",
          "text": [
            "\r  0%|          | 0/200 [00:00<?, ?it/s]"
          ],
          "name": "stderr"
        },
        {
          "output_type": "stream",
          "text": [
            "==================== Epoch 1 ====================\n"
          ],
          "name": "stdout"
        },
        {
          "output_type": "stream",
          "text": [
            "Training: 100%|██████████| 200/200 [02:19<00:00,  1.43it/s]\n",
            "Validation: 100%|██████████| 25/25 [00:05<00:00,  4.55it/s]\n",
            "  0%|          | 0/200 [00:00<?, ?it/s]"
          ],
          "name": "stderr"
        },
        {
          "output_type": "stream",
          "text": [
            "Train Acc: 0.146544 Train Loss: 2.122410\n",
            "  Val Acc: 0.190000   Val Loss: 2.022538\n",
            "==================== Epoch 2 ====================\n"
          ],
          "name": "stdout"
        },
        {
          "output_type": "stream",
          "text": [
            "Training: 100%|██████████| 200/200 [02:18<00:00,  1.44it/s]\n",
            "Validation: 100%|██████████| 25/25 [00:05<00:00,  4.80it/s]\n",
            "  0%|          | 0/200 [00:00<?, ?it/s]"
          ],
          "name": "stderr"
        },
        {
          "output_type": "stream",
          "text": [
            "Train Acc: 0.216609 Train Loss: 1.986999\n",
            "  Val Acc: 0.265000   Val Loss: 1.895832\n",
            "==================== Epoch 3 ====================\n"
          ],
          "name": "stdout"
        },
        {
          "output_type": "stream",
          "text": [
            "Training: 100%|██████████| 200/200 [02:18<00:00,  1.44it/s]\n",
            "Validation: 100%|██████████| 25/25 [00:05<00:00,  4.71it/s]\n"
          ],
          "name": "stderr"
        },
        {
          "output_type": "stream",
          "text": [
            "Train Acc: 0.296372 Train Loss: 1.860688\n",
            "  Val Acc: 0.322500   Val Loss: 1.801330\n",
            ".................... Particle 2 ....................\n"
          ],
          "name": "stdout"
        },
        {
          "output_type": "stream",
          "text": [
            "\r  0%|          | 0/200 [00:00<?, ?it/s]"
          ],
          "name": "stderr"
        },
        {
          "output_type": "stream",
          "text": [
            " learning_rate = 0.0030050646833732226 initial_size = 11 \n",
            " blocks_1 = 3 blocks_2 = 8 blocks_3 = 3 blocks_4 = 2 \n",
            " expansion = 4 hidden_size = 23 num_layers = 2\n",
            "==================== Epoch 1 ====================\n"
          ],
          "name": "stdout"
        },
        {
          "output_type": "stream",
          "text": [
            "Training: 100%|██████████| 200/200 [01:49<00:00,  1.83it/s]\n",
            "Validation: 100%|██████████| 25/25 [00:03<00:00,  7.34it/s]\n",
            "  0%|          | 0/200 [00:00<?, ?it/s]"
          ],
          "name": "stderr"
        },
        {
          "output_type": "stream",
          "text": [
            "Train Acc: 0.195652 Train Loss: 2.038082\n",
            "  Val Acc: 0.203750   Val Loss: 2.034364\n",
            "==================== Epoch 2 ====================\n"
          ],
          "name": "stdout"
        },
        {
          "output_type": "stream",
          "text": [
            "Training: 100%|██████████| 200/200 [01:49<00:00,  1.83it/s]\n",
            "Validation: 100%|██████████| 25/25 [00:03<00:00,  7.53it/s]\n",
            "  0%|          | 0/200 [00:00<?, ?it/s]"
          ],
          "name": "stderr"
        },
        {
          "output_type": "stream",
          "text": [
            "Train Acc: 0.329684 Train Loss: 1.779421\n",
            "  Val Acc: 0.342500   Val Loss: 1.732497\n",
            "==================== Epoch 3 ====================\n"
          ],
          "name": "stdout"
        },
        {
          "output_type": "stream",
          "text": [
            "Training: 100%|██████████| 200/200 [01:49<00:00,  1.83it/s]\n",
            "Validation: 100%|██████████| 25/25 [00:03<00:00,  7.55it/s]\n"
          ],
          "name": "stderr"
        },
        {
          "output_type": "stream",
          "text": [
            "Train Acc: 0.368470 Train Loss: 1.705668\n",
            "  Val Acc: 0.277500   Val Loss: 2.010769\n",
            ".................... Particle 3 ....................\n"
          ],
          "name": "stdout"
        },
        {
          "output_type": "stream",
          "text": [
            "\r  0%|          | 0/200 [00:00<?, ?it/s]"
          ],
          "name": "stderr"
        },
        {
          "output_type": "stream",
          "text": [
            " learning_rate = 0.0027593015701075484 initial_size = 22 \n",
            " blocks_1 = 3 blocks_2 = 10 blocks_3 = 6 blocks_4 = 4 \n",
            " expansion = 4 hidden_size = 18 num_layers = 1\n",
            "==================== Epoch 1 ====================\n"
          ],
          "name": "stdout"
        },
        {
          "output_type": "stream",
          "text": [
            "Training: 100%|██████████| 200/200 [01:53<00:00,  1.76it/s]\n",
            "Validation: 100%|██████████| 25/25 [00:03<00:00,  6.57it/s]\n",
            "  0%|          | 0/200 [00:00<?, ?it/s]"
          ],
          "name": "stderr"
        },
        {
          "output_type": "stream",
          "text": [
            "Train Acc: 0.223960 Train Loss: 1.994505\n",
            "  Val Acc: 0.302500   Val Loss: 1.844249\n",
            "==================== Epoch 2 ====================\n"
          ],
          "name": "stdout"
        },
        {
          "output_type": "stream",
          "text": [
            "Training: 100%|██████████| 200/200 [01:54<00:00,  1.75it/s]\n",
            "Validation: 100%|██████████| 25/25 [00:03<00:00,  6.42it/s]\n",
            "  0%|          | 0/200 [00:00<?, ?it/s]"
          ],
          "name": "stderr"
        },
        {
          "output_type": "stream",
          "text": [
            "Train Acc: 0.314514 Train Loss: 1.814665\n",
            "  Val Acc: 0.346250   Val Loss: 1.730115\n",
            "==================== Epoch 3 ====================\n"
          ],
          "name": "stdout"
        },
        {
          "output_type": "stream",
          "text": [
            "Training: 100%|██████████| 200/200 [01:54<00:00,  1.74it/s]\n",
            "Validation: 100%|██████████| 25/25 [00:03<00:00,  6.54it/s]\n"
          ],
          "name": "stderr"
        },
        {
          "output_type": "stream",
          "text": [
            "Train Acc: 0.351892 Train Loss: 1.742522\n",
            "  Val Acc: 0.342500   Val Loss: 1.781282\n",
            ".................... Particle 4 ....................\n"
          ],
          "name": "stdout"
        },
        {
          "output_type": "stream",
          "text": [
            "\r  0%|          | 0/200 [00:00<?, ?it/s]"
          ],
          "name": "stderr"
        },
        {
          "output_type": "stream",
          "text": [
            " learning_rate = 0.0020493917564701775 initial_size = 14 \n",
            " blocks_1 = 1 blocks_2 = 5 blocks_3 = 2 blocks_4 = 8 \n",
            " expansion = 4 hidden_size = 23 num_layers = 1\n",
            "==================== Epoch 1 ====================\n"
          ],
          "name": "stdout"
        },
        {
          "output_type": "stream",
          "text": [
            "Training: 100%|██████████| 200/200 [01:49<00:00,  1.83it/s]\n",
            "Validation: 100%|██████████| 25/25 [00:03<00:00,  7.63it/s]\n",
            "  0%|          | 0/200 [00:00<?, ?it/s]"
          ],
          "name": "stderr"
        },
        {
          "output_type": "stream",
          "text": [
            "Train Acc: 0.214889 Train Loss: 2.006650\n",
            "  Val Acc: 0.302500   Val Loss: 1.841184\n",
            "==================== Epoch 2 ====================\n"
          ],
          "name": "stdout"
        },
        {
          "output_type": "stream",
          "text": [
            "Training: 100%|██████████| 200/200 [01:49<00:00,  1.82it/s]\n",
            "Validation: 100%|██████████| 25/25 [00:03<00:00,  7.94it/s]\n",
            "  0%|          | 0/200 [00:00<?, ?it/s]"
          ],
          "name": "stderr"
        },
        {
          "output_type": "stream",
          "text": [
            "Train Acc: 0.325618 Train Loss: 1.810457\n",
            "  Val Acc: 0.395000   Val Loss: 1.679311\n",
            "==================== Epoch 3 ====================\n"
          ],
          "name": "stdout"
        },
        {
          "output_type": "stream",
          "text": [
            "Training: 100%|██████████| 200/200 [01:48<00:00,  1.84it/s]\n",
            "Validation: 100%|██████████| 25/25 [00:03<00:00,  7.50it/s]\n"
          ],
          "name": "stderr"
        },
        {
          "output_type": "stream",
          "text": [
            "Train Acc: 0.367063 Train Loss: 1.734833\n",
            "  Val Acc: 0.208750   Val Loss: 2.461520\n",
            "receive from 2 [1.57842885e-03 5.00000000e+01 1.00000000e+00 8.00000000e+00\n",
            " 4.00000000e+00 7.00000000e+00 4.00000000e+00 2.60000000e+01\n",
            " 1.00000000e+00 7.40000000e+01 1.00000000e+00 4.16250000e-01]\n",
            "break!!!!!! I loss my patience\n",
            "break!!!!!! I loss my patience\n",
            "9 [1.57842885e-03 5.00000000e+01 1.00000000e+00 8.00000000e+00\n",
            " 4.00000000e+00 7.00000000e+00 4.00000000e+00 2.60000000e+01\n",
            " 1.00000000e+00 7.40000000e+01 1.00000000e+00 4.16250000e-01]\n",
            "-------------------- Iteration 10 --------------------\n",
            ".................... Particle 1 ....................\n",
            " learning_rate = 0.0016116249581474475 initial_size = 56 \n",
            " blocks_1 = 1 blocks_2 = 8 blocks_3 = 13 blocks_4 = 9 \n",
            " expansion = 4 hidden_size = 23 num_layers = 1\n"
          ],
          "name": "stdout"
        },
        {
          "output_type": "stream",
          "text": [
            "\r  0%|          | 0/200 [00:00<?, ?it/s]"
          ],
          "name": "stderr"
        },
        {
          "output_type": "stream",
          "text": [
            "==================== Epoch 1 ====================\n"
          ],
          "name": "stdout"
        },
        {
          "output_type": "stream",
          "text": [
            "Training: 100%|██████████| 200/200 [02:21<00:00,  1.41it/s]\n",
            "Validation: 100%|██████████| 25/25 [00:06<00:00,  3.85it/s]\n",
            "  0%|          | 0/200 [00:00<?, ?it/s]"
          ],
          "name": "stderr"
        },
        {
          "output_type": "stream",
          "text": [
            "Train Acc: 0.162340 Train Loss: 2.093830\n",
            "  Val Acc: 0.176250   Val Loss: 2.035408\n",
            "==================== Epoch 2 ====================\n"
          ],
          "name": "stdout"
        },
        {
          "output_type": "stream",
          "text": [
            "Training: 100%|██████████| 200/200 [02:25<00:00,  1.38it/s]\n",
            "Validation: 100%|██████████| 25/25 [00:06<00:00,  3.88it/s]\n",
            "  0%|          | 0/200 [00:00<?, ?it/s]"
          ],
          "name": "stderr"
        },
        {
          "output_type": "stream",
          "text": [
            "Train Acc: 0.198780 Train Loss: 2.001156\n",
            "  Val Acc: 0.256250   Val Loss: 1.918276\n",
            "==================== Epoch 3 ====================\n"
          ],
          "name": "stdout"
        },
        {
          "output_type": "stream",
          "text": [
            "Training: 100%|██████████| 200/200 [02:26<00:00,  1.37it/s]\n",
            "Validation: 100%|██████████| 25/25 [00:06<00:00,  3.85it/s]\n"
          ],
          "name": "stderr"
        },
        {
          "output_type": "stream",
          "text": [
            "Train Acc: 0.259149 Train Loss: 1.896115\n",
            "  Val Acc: 0.306250   Val Loss: 1.815909\n",
            ".................... Particle 2 ....................\n",
            " learning_rate = 0.001827554676773649 initial_size = 47 \n",
            " blocks_1 = 4 blocks_2 = 15 blocks_3 = 1 blocks_4 = 7 \n",
            " expansion = 4 hidden_size = 25 num_layers = 1\n"
          ],
          "name": "stdout"
        },
        {
          "output_type": "stream",
          "text": [
            "\r  0%|          | 0/200 [00:00<?, ?it/s]"
          ],
          "name": "stderr"
        },
        {
          "output_type": "stream",
          "text": [
            "==================== Epoch 1 ====================\n"
          ],
          "name": "stdout"
        },
        {
          "output_type": "stream",
          "text": [
            "Training: 100%|██████████| 200/200 [02:13<00:00,  1.49it/s]\n",
            "Validation: 100%|██████████| 25/25 [00:05<00:00,  4.33it/s]\n",
            "  0%|          | 0/200 [00:00<?, ?it/s]"
          ],
          "name": "stderr"
        },
        {
          "output_type": "stream",
          "text": [
            "Train Acc: 0.154207 Train Loss: 2.108465\n",
            "  Val Acc: 0.258750   Val Loss: 1.934304\n",
            "==================== Epoch 2 ====================\n"
          ],
          "name": "stdout"
        },
        {
          "output_type": "stream",
          "text": [
            "Training: 100%|██████████| 200/200 [02:14<00:00,  1.49it/s]\n",
            "Validation: 100%|██████████| 25/25 [00:05<00:00,  4.21it/s]\n",
            "  0%|          | 0/200 [00:00<?, ?it/s]"
          ],
          "name": "stderr"
        },
        {
          "output_type": "stream",
          "text": [
            "Train Acc: 0.265249 Train Loss: 1.912230\n",
            "  Val Acc: 0.316250   Val Loss: 1.761264\n",
            "==================== Epoch 3 ====================\n"
          ],
          "name": "stdout"
        },
        {
          "output_type": "stream",
          "text": [
            "Training: 100%|██████████| 200/200 [02:14<00:00,  1.49it/s]\n",
            "Validation: 100%|██████████| 25/25 [00:05<00:00,  4.36it/s]\n"
          ],
          "name": "stderr"
        },
        {
          "output_type": "stream",
          "text": [
            "Train Acc: 0.323428 Train Loss: 1.809141\n",
            "  Val Acc: 0.328750   Val Loss: 1.756988\n",
            ".................... Particle 3 ....................\n",
            " learning_rate = 0.00026302786117824665 initial_size = 53 \n",
            " blocks_1 = 1 blocks_2 = 11 blocks_3 = 5 blocks_4 = 2 \n",
            " expansion = 4 hidden_size = 25 num_layers = 1\n"
          ],
          "name": "stdout"
        },
        {
          "output_type": "stream",
          "text": [
            "\r  0%|          | 0/200 [00:00<?, ?it/s]"
          ],
          "name": "stderr"
        },
        {
          "output_type": "stream",
          "text": [
            "==================== Epoch 1 ====================\n"
          ],
          "name": "stdout"
        },
        {
          "output_type": "stream",
          "text": [
            "Training:  82%|████████▏ | 163/200 [01:39<00:21,  1.75it/s]"
          ],
          "name": "stderr"
        }
      ]
    }
  ]
}