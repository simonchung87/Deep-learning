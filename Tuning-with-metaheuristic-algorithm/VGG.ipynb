{
  "nbformat": 4,
  "nbformat_minor": 0,
  "metadata": {
    "accelerator": "GPU",
    "colab": {
      "name": "VGG.ipynb",
      "provenance": [],
      "collapsed_sections": []
    },
    "kernelspec": {
      "display_name": "Python 3",
      "language": "python",
      "name": "python3"
    },
    "language_info": {
      "codemirror_mode": {
        "name": "ipython",
        "version": 3
      },
      "file_extension": ".py",
      "mimetype": "text/x-python",
      "name": "python",
      "nbconvert_exporter": "python",
      "pygments_lexer": "ipython3",
      "version": "3.7.6"
    }
  },
  "cells": [
    {
      "cell_type": "markdown",
      "metadata": {
        "id": "pHkm-3RCNMrA"
      },
      "source": [
        "## Import Libraries"
      ]
    },
    {
      "cell_type": "code",
      "metadata": {
        "id": "KdhpoxXDNMrD"
      },
      "source": [
        "import numpy as np # linear algebra\n",
        "import pandas as pd # data processing, CSV file I/O (e.g. pd.read_csv)\n",
        "import math\n",
        "import seaborn as sns\n",
        "# import librosa\n",
        "# import librosa.display\n",
        "import matplotlib.pyplot as plt\n",
        "%matplotlib inline\n",
        "import cv2\n",
        "import csv\n",
        "import time\n",
        "import random\n",
        "import matplotlib.image as img\n",
        "# import warnings\n",
        "import warnings\n",
        "# filter warnings\n",
        "warnings.filterwarnings('ignore')\n",
        "\n",
        "import os\n",
        "\n",
        "import torch\n",
        "import torch.nn as nn\n",
        "import torch.nn.functional as F\n",
        "import torch.optim as optim\n",
        "from torch.utils.data import DataLoader, Dataset\n",
        "from torch.utils.data import RandomSampler\n",
        "from torch.utils.data import TensorDataset\n",
        "from torchvision.utils import make_grid\n",
        "import torchvision.models as models\n",
        "from PIL import Image\n",
        "from tqdm import tqdm"
      ],
      "execution_count": null,
      "outputs": []
    },
    {
      "cell_type": "markdown",
      "metadata": {
        "id": "fnRu378pNMrF"
      },
      "source": [
        "## Import Dataset"
      ]
    },
    {
      "cell_type": "code",
      "metadata": {
        "id": "o7X_doDQNMrG"
      },
      "source": [
        "class Musicdata(torch.utils.data.Dataset):\n",
        "    def __init__(self, npz, mode='train'):\n",
        "        npzfile = np.load(npz)\n",
        "        self.mode = mode   \n",
        "        self.x = npzfile['arr_0']\n",
        "        self.x = [one.reshape(1,640,128) for one in self.x]\n",
        "        self.y = npzfile['arr_1']\n",
        "\n",
        "        \n",
        "                    \n",
        "    def __getitem__(self, index):\n",
        "        data = torch.tensor(self.x[index], dtype = torch.float32)\n",
        "        #data = transforms(data)\n",
        "        if self.mode == 'test': \n",
        "            return data\n",
        "        genre = [np.where(one == 1)[0][0] for one in self.y]\n",
        "        genre = torch.tensor(int(genre[index]))\n",
        "        return data, genre\n",
        "\n",
        "    def __len__(self):\n",
        "        return len(self.x)"
      ],
      "execution_count": null,
      "outputs": []
    },
    {
      "cell_type": "code",
      "metadata": {
        "colab": {
          "base_uri": "https://localhost:8080/"
        },
        "id": "apU21oKKNw2G",
        "outputId": "6575b9b6-0213-4a29-e1cd-5d700797be27"
      },
      "source": [
        "from google.colab import drive\n",
        "drive.mount('/content/drive')"
      ],
      "execution_count": null,
      "outputs": [
        {
          "output_type": "stream",
          "text": [
            "Mounted at /content/drive\n"
          ],
          "name": "stdout"
        }
      ]
    },
    {
      "cell_type": "code",
      "metadata": {
        "id": "Wq3ri_CzNMrH"
      },
      "source": [
        "dataset_train = Musicdata('./drive/MyDrive/shuffled_train.npz', mode='train')\n",
        "dataset_val = Musicdata('./drive/MyDrive/shuffled_valid.npz', mode='val')\n",
        "# dataset_test = Musicdata('./drive/MyDrive/test_arr.npz', mode='test')"
      ],
      "execution_count": null,
      "outputs": []
    },
    {
      "cell_type": "code",
      "metadata": {
        "id": "lMUSsoLBNMrH"
      },
      "source": [
        "from torch.utils.data import DataLoader\n",
        "\n",
        "train_loader = DataLoader(dataset_train, batch_size=32, num_workers = 8, shuffle=False)\n",
        "val_loader = DataLoader(dataset_val, batch_size=32, num_workers = 8, shuffle=False)\n",
        "# test_loader = DataLoader(dataset_test, batch_size=128, shuffle=False)"
      ],
      "execution_count": null,
      "outputs": []
    },
    {
      "cell_type": "markdown",
      "metadata": {
        "id": "oeWenik6NMrH"
      },
      "source": [
        "## Building Model Architecture"
      ]
    },
    {
      "cell_type": "code",
      "metadata": {
        "colab": {
          "base_uri": "https://localhost:8080/"
        },
        "id": "xxO8fARgNMrI",
        "outputId": "a3636136-caf1-4877-dcc5-89e9a7a61db9"
      },
      "source": [
        "def output_linear_size(number_of_block):\n",
        "  if number_of_block <= 5:\n",
        "    channel_number = 32*2**(number_of_block-1)\n",
        "  else:\n",
        "    if number_of_block % 2 == 0:\n",
        "      channel_number = 32*2**1\n",
        "    else:\n",
        "      channel_number = 32*2**2\n",
        "  return channel_number * (640 * 128)/(2 ** (2*number_of_block))\n",
        "\n",
        "for i in range(8):\n",
        "  print(\"number_of_block =\", i, \"neuron_number =\", output_linear_size(i))"
      ],
      "execution_count": null,
      "outputs": [
        {
          "output_type": "stream",
          "text": [
            "number_of_block = 0 neuron_number = 1310720.0\n",
            "number_of_block = 1 neuron_number = 655360.0\n",
            "number_of_block = 2 neuron_number = 327680.0\n",
            "number_of_block = 3 neuron_number = 163840.0\n",
            "number_of_block = 4 neuron_number = 81920.0\n",
            "number_of_block = 5 neuron_number = 40960.0\n",
            "number_of_block = 6 neuron_number = 1280.0\n",
            "number_of_block = 7 neuron_number = 640.0\n"
          ],
          "name": "stdout"
        }
      ]
    },
    {
      "cell_type": "code",
      "metadata": {
        "colab": {
          "base_uri": "https://localhost:8080/"
        },
        "id": "pw7OR1v07jzO",
        "outputId": "01529811-6a79-42fc-828b-3974d6248729"
      },
      "source": [
        "def configuration(number_of_block, initial_size=32, th_1=3, th_2=4):\n",
        "  cfg_list = []\n",
        "  c_out = initial_size\n",
        "  for i in range(number_of_block):\n",
        "    if i < th_1: # i=0,1,2,...,th_1 只有一層捲積\n",
        "      c_out = initial_size * 2**i\n",
        "      cfg_list += [c_out, \"M\"]\n",
        "    if i >= th_1 and i < th_2: # \n",
        "      c_out *= 2\n",
        "      cfg_list += [c_out, c_out, \"M\"]\n",
        "    if i >= th_2: # i=th_2,...,number_of_block 只有一層捲積，開始變小\n",
        "      c_out /= 2\n",
        "      c_out = int(c_out)\n",
        "      cfg_list += [c_out, \"M\"]\n",
        "  return cfg_list, c_out\n",
        "for i in range(8):\n",
        "  design, c_out = configuration(i)\n",
        "  print(\"number of block =\", i, \"block design =\", design, \"channel out =\", c_out)"
      ],
      "execution_count": null,
      "outputs": [
        {
          "output_type": "stream",
          "text": [
            "number of block = 0 block design = [] channel out = 32\n",
            "number of block = 1 block design = [32, 'M'] channel out = 32\n",
            "number of block = 2 block design = [32, 'M', 64, 'M'] channel out = 64\n",
            "number of block = 3 block design = [32, 'M', 64, 'M', 128, 'M'] channel out = 128\n",
            "number of block = 4 block design = [32, 'M', 64, 'M', 128, 'M', 256, 256, 'M'] channel out = 256\n",
            "number of block = 5 block design = [32, 'M', 64, 'M', 128, 'M', 256, 256, 'M', 128, 'M'] channel out = 128\n",
            "number of block = 6 block design = [32, 'M', 64, 'M', 128, 'M', 256, 256, 'M', 128, 'M', 64, 'M'] channel out = 64\n",
            "number of block = 7 block design = [32, 'M', 64, 'M', 128, 'M', 256, 256, 'M', 128, 'M', 64, 'M', 32, 'M'] channel out = 32\n"
          ],
          "name": "stdout"
        }
      ]
    },
    {
      "cell_type": "code",
      "metadata": {
        "id": "mNxLaDD8NMrJ"
      },
      "source": [
        "# def configuration(number_of_block):\n",
        "#   cfg_list = []\n",
        "#   forward_block = number_of_block\n",
        "#   if number_of_block > 5:\n",
        "#     forward_block = number_of_block - number_of_block//2\n",
        "#   for i in range(number_of_block):\n",
        "#     if i <= forward_block:\n",
        "#       c_out = 2**(4+i)\n",
        "#       cfg_list += [c_out, c_out, \"M\"]\n",
        "#     if i > forward_block:\n",
        "#       c_out = c_out/2\n",
        "#       cfg_list += [c_out, c_out, \"M\"]\n",
        "\n",
        "#   return cfg_list\n",
        "\n",
        "# for i in range(8):\n",
        "#   print(\"number_of_block =\", i)\n",
        "#   print(configuration(i))"
      ],
      "execution_count": null,
      "outputs": []
    },
    {
      "cell_type": "code",
      "metadata": {
        "id": "446DJhxc9vCF"
      },
      "source": [
        "def configuration(number_of_block):\n",
        "  cfg_list = []\n",
        "  if number_of_block <= 5:\n",
        "    for i in range(number_of_block):\n",
        "      c_out = 2**(5+i)\n",
        "      cfg_list += [c_out, c_out, \"M\"]\n",
        "  else:\n",
        "    for i in range(number_of_block - number_of_block//2):\n",
        "      c_out = 2**(5+i)\n",
        "      cfg_list += [c_out, c_out, \"M\"]\n",
        "    for j in range(number_of_block//2):\n",
        "      c_out = 2**(5 + i - j + 1)\n",
        "      cfg_list += [c_out, c_out, \"M\"]\n",
        "  return cfg_list"
      ],
      "execution_count": null,
      "outputs": []
    },
    {
      "cell_type": "code",
      "metadata": {
        "id": "B4G8EDk7NMrK"
      },
      "source": [
        "def make_layers(cfg, batch_norm=True):\n",
        "    layers = []\n",
        "    in_channels = 1\n",
        "    for v in cfg:\n",
        "        if v == 'M':\n",
        "            layers += [nn.MaxPool2d(kernel_size=2, stride=2)]\n",
        "        else:\n",
        "            conv2d = nn.Conv2d(in_channels, v, kernel_size=3, padding=1)\n",
        "            if batch_norm:\n",
        "                layers += [conv2d, nn.BatchNorm2d(v), nn.ReLU(inplace=True)]\n",
        "            else:\n",
        "                layers += [conv2d, nn.ReLU(inplace=True)]\n",
        "            in_channels = v\n",
        "    return nn.Sequential(*layers)"
      ],
      "execution_count": null,
      "outputs": []
    },
    {
      "cell_type": "code",
      "metadata": {
        "id": "Kd29ci55NMrL"
      },
      "source": [
        "number_of_block = 4\n",
        "design, c_out = configuration(number_of_block)\n",
        "\n",
        "class VGG(nn.Module):\n",
        "    def __init__(self, features):\n",
        "        super(VGG, self).__init__()\n",
        "        self.features = features\n",
        "        self.classifier = nn.Sequential(\n",
        "                nn.Dropout(),\n",
        "                nn.Linear(int(c_out*640*128/4**number_of_block), 512),\n",
        "                nn.ReLU(True),\n",
        "                nn.Dropout(),\n",
        "                nn.Linear(512, 512),\n",
        "                nn.ReLU(True),\n",
        "                nn.Linear(512, 8),\n",
        "        )\n",
        "        # self.avgpool = nn.AdaptiveAvgPool2d((6, 6))\n",
        "        # self.LSTM = nn.LSTM(36, 20, 2, batch_first = True)\n",
        "        for m in self.modules():\n",
        "            if isinstance(m, nn.Conv2d):\n",
        "                n = m.kernel_size[0] * m.kernel_size[1] * m.out_channels\n",
        "                m.weight.data.normal_(0, math.sqrt(2. / n))\n",
        "                m.bias.data.zero_()\n",
        "\n",
        "    def forward(self, x):\n",
        "        x = self.features(x)\n",
        "        x = x.view(x.size(0), -1)\n",
        "        x = self.classifier(x)\n",
        "        return x"
      ],
      "execution_count": null,
      "outputs": []
    },
    {
      "cell_type": "code",
      "metadata": {
        "colab": {
          "base_uri": "https://localhost:8080/"
        },
        "id": "TUpsBfcyNMrM",
        "outputId": "b768b6e0-802a-415c-ebcf-1b7bb565b00e"
      },
      "source": [
        "model = VGG(make_layers(configuration(number_of_block)[0], batch_norm=True))\n",
        "print(model)\n",
        "model = model.cuda()"
      ],
      "execution_count": null,
      "outputs": [
        {
          "output_type": "stream",
          "text": [
            "VGG(\n",
            "  (features): Sequential(\n",
            "    (0): Conv2d(1, 32, kernel_size=(3, 3), stride=(1, 1), padding=(1, 1))\n",
            "    (1): BatchNorm2d(32, eps=1e-05, momentum=0.1, affine=True, track_running_stats=True)\n",
            "    (2): ReLU(inplace=True)\n",
            "    (3): MaxPool2d(kernel_size=2, stride=2, padding=0, dilation=1, ceil_mode=False)\n",
            "    (4): Conv2d(32, 64, kernel_size=(3, 3), stride=(1, 1), padding=(1, 1))\n",
            "    (5): BatchNorm2d(64, eps=1e-05, momentum=0.1, affine=True, track_running_stats=True)\n",
            "    (6): ReLU(inplace=True)\n",
            "    (7): MaxPool2d(kernel_size=2, stride=2, padding=0, dilation=1, ceil_mode=False)\n",
            "    (8): Conv2d(64, 128, kernel_size=(3, 3), stride=(1, 1), padding=(1, 1))\n",
            "    (9): BatchNorm2d(128, eps=1e-05, momentum=0.1, affine=True, track_running_stats=True)\n",
            "    (10): ReLU(inplace=True)\n",
            "    (11): MaxPool2d(kernel_size=2, stride=2, padding=0, dilation=1, ceil_mode=False)\n",
            "    (12): Conv2d(128, 256, kernel_size=(3, 3), stride=(1, 1), padding=(1, 1))\n",
            "    (13): BatchNorm2d(256, eps=1e-05, momentum=0.1, affine=True, track_running_stats=True)\n",
            "    (14): ReLU(inplace=True)\n",
            "    (15): Conv2d(256, 256, kernel_size=(3, 3), stride=(1, 1), padding=(1, 1))\n",
            "    (16): BatchNorm2d(256, eps=1e-05, momentum=0.1, affine=True, track_running_stats=True)\n",
            "    (17): ReLU(inplace=True)\n",
            "    (18): MaxPool2d(kernel_size=2, stride=2, padding=0, dilation=1, ceil_mode=False)\n",
            "  )\n",
            "  (classifier): Sequential(\n",
            "    (0): Dropout(p=0.5, inplace=False)\n",
            "    (1): Linear(in_features=81920, out_features=512, bias=True)\n",
            "    (2): ReLU(inplace=True)\n",
            "    (3): Dropout(p=0.5, inplace=False)\n",
            "    (4): Linear(in_features=512, out_features=512, bias=True)\n",
            "    (5): ReLU(inplace=True)\n",
            "    (6): Linear(in_features=512, out_features=8, bias=True)\n",
            "  )\n",
            ")\n"
          ],
          "name": "stdout"
        }
      ]
    },
    {
      "cell_type": "code",
      "metadata": {
        "id": "6FaCsP-yNMrO"
      },
      "source": [
        "import torch.nn as nn\n",
        "import torch.optim as optim\n",
        "\n",
        "optimizer = torch.optim.Adam(params = model.parameters(), lr=1e-3, betas=(0.9, 0.999), eps=1e-08, weight_decay=0, amsgrad=False)\n",
        "criterion = nn.CrossEntropyLoss()\n",
        "criterion = criterion.cuda()"
      ],
      "execution_count": null,
      "outputs": []
    },
    {
      "cell_type": "code",
      "metadata": {
        "id": "24BSpFWhNMrP"
      },
      "source": [
        "def train(input_data, model, criterion, optimizer):\n",
        "\n",
        "    model.train()\n",
        "    loss_list = []\n",
        "    total_count = 0\n",
        "    acc_count = 0\n",
        "    print(\"Training:\")\n",
        "    for data in tqdm(input_data):\n",
        "        music, genre = data[0].cuda(), data[1].cuda()\n",
        "        optimizer.zero_grad()\n",
        "        outputs = model(music)\n",
        "        loss = criterion(outputs, genre) ##data type\n",
        "        loss.backward()\n",
        "        optimizer.step() \n",
        "        _, predicted = torch.max(outputs.data, 1)\n",
        "        total_count += genre.size(0) \n",
        "        acc_count += (predicted == genre).sum()  \n",
        "        loss_list.append(loss.item())\n",
        "        time.sleep(0.5)\n",
        "        \n",
        "\n",
        "    acc = acc_count.to(\"cpu\").detach().numpy() / total_count\n",
        "    loss = sum(loss_list) / len(loss_list)\n",
        "    return acc, loss"
      ],
      "execution_count": null,
      "outputs": []
    },
    {
      "cell_type": "code",
      "metadata": {
        "id": "dR85dhbfNMrQ"
      },
      "source": [
        "def val(input_data, model, criterion):\n",
        "    model.eval()\n",
        "    \n",
        "    loss_list = []\n",
        "    total_count = 0\n",
        "    acc_count = 0\n",
        "    print(\"Validation:\")\n",
        "    with torch.no_grad():\n",
        "        for data in tqdm(input_data):\n",
        "            music, genre = data[0].cuda(), data[1].cuda()\n",
        "            outputs = model(music)\n",
        "            loss = criterion(outputs, genre) ##data type\n",
        "            _, predicted = torch.max(outputs.data, dim=1)\n",
        "            total_count += genre.size(0)\n",
        "            acc_count += (predicted == genre).sum()\n",
        "            loss_list.append(loss.item())\n",
        "            time.sleep(0.5)\n",
        "\n",
        "\n",
        "    acc = acc_count.to(\"cpu\").detach().numpy() / total_count\n",
        "    loss = sum(loss_list) / len(loss_list)\n",
        "    return acc, loss"
      ],
      "execution_count": null,
      "outputs": []
    },
    {
      "cell_type": "markdown",
      "metadata": {
        "id": "9Pll1X_8chMA"
      },
      "source": [
        "### number of block = 4 block design = [48, 'M', 96, 96, 'M', 192, 192, 'M', 384, 384, 'M'] channel out = 384\n",
        "### torch.optim.AdamW(params = model.parameters(), lr=1e-5, betas=(0.9, 0.999),  eps=1e-08, weight_decay=0.01, amsgrad=False)\n",
        "### learning rate decay 0.96"
      ]
    },
    {
      "cell_type": "code",
      "metadata": {
        "colab": {
          "base_uri": "https://localhost:8080/"
        },
        "id": "WRZFTVc6VO9P",
        "outputId": "f8eaf515-d445-45ce-bbfa-9a7620f2e381"
      },
      "source": [
        "max_epochs = 10\n",
        "log_interval = 1 # print acc and loss in per log_interval time\n",
        "train_acc_list = []\n",
        "train_loss_list = []\n",
        "val_acc_list = []\n",
        "val_loss_list = []\n",
        "\n",
        "for epoch in range(1, max_epochs + 1):\n",
        "    train_acc, train_loss = train(train_loader, model, criterion, optimizer)\n",
        "    val_acc, val_loss = val(val_loader, model, criterion)\n",
        "\n",
        "    train_acc_list.append(train_acc)\n",
        "    train_loss_list.append(train_loss)\n",
        "    val_acc_list.append(val_acc)\n",
        "    val_loss_list.append(val_loss)\n",
        "\n",
        "    if epoch % log_interval == 0:\n",
        "        print('=' * 20, 'Epoch', epoch, '=' * 20)\n",
        "        print('Train Acc: {:.6f} Train Loss: {:.6f}'.format(train_acc, train_loss))\n",
        "        print('  Val Acc: {:.6f}   Val Loss: {:.6f}'.format(val_acc, val_loss))"
      ],
      "execution_count": null,
      "outputs": [
        {
          "output_type": "stream",
          "text": [
            "\r  0%|          | 0/200 [00:00<?, ?it/s]"
          ],
          "name": "stderr"
        },
        {
          "output_type": "stream",
          "text": [
            "Training:\n"
          ],
          "name": "stdout"
        },
        {
          "output_type": "stream",
          "text": [
            "100%|██████████| 200/200 [02:17<00:00,  1.46it/s]\n",
            "  0%|          | 0/25 [00:00<?, ?it/s]"
          ],
          "name": "stderr"
        },
        {
          "output_type": "stream",
          "text": [
            "Validation:\n"
          ],
          "name": "stdout"
        },
        {
          "output_type": "stream",
          "text": [
            "100%|██████████| 25/25 [00:14<00:00,  1.67it/s]\n",
            "  0%|          | 0/200 [00:00<?, ?it/s]"
          ],
          "name": "stderr"
        },
        {
          "output_type": "stream",
          "text": [
            "==================== Epoch 1 ====================\n",
            "Train Acc: 0.197842 Train Loss: 2.745934\n",
            "  Val Acc: 0.201250   Val Loss: 2.018301\n",
            "Training:\n"
          ],
          "name": "stdout"
        },
        {
          "output_type": "stream",
          "text": [
            "100%|██████████| 200/200 [02:17<00:00,  1.45it/s]\n",
            "  0%|          | 0/25 [00:00<?, ?it/s]"
          ],
          "name": "stderr"
        },
        {
          "output_type": "stream",
          "text": [
            "Validation:\n"
          ],
          "name": "stdout"
        },
        {
          "output_type": "stream",
          "text": [
            "100%|██████████| 25/25 [00:15<00:00,  1.64it/s]\n",
            "  0%|          | 0/200 [00:00<?, ?it/s]"
          ],
          "name": "stderr"
        },
        {
          "output_type": "stream",
          "text": [
            "==================== Epoch 2 ====================\n",
            "Train Acc: 0.213012 Train Loss: 1.981229\n",
            "  Val Acc: 0.271250   Val Loss: 1.916750\n",
            "Training:\n"
          ],
          "name": "stdout"
        },
        {
          "output_type": "stream",
          "text": [
            "100%|██████████| 200/200 [02:17<00:00,  1.45it/s]\n",
            "  0%|          | 0/25 [00:00<?, ?it/s]"
          ],
          "name": "stderr"
        },
        {
          "output_type": "stream",
          "text": [
            "Validation:\n"
          ],
          "name": "stdout"
        },
        {
          "output_type": "stream",
          "text": [
            "100%|██████████| 25/25 [00:15<00:00,  1.64it/s]\n",
            "  0%|          | 0/200 [00:00<?, ?it/s]"
          ],
          "name": "stderr"
        },
        {
          "output_type": "stream",
          "text": [
            "==================== Epoch 3 ====================\n",
            "Train Acc: 0.174069 Train Loss: 2.017378\n",
            "  Val Acc: 0.187500   Val Loss: 2.001681\n",
            "Training:\n"
          ],
          "name": "stdout"
        },
        {
          "output_type": "stream",
          "text": [
            "100%|██████████| 200/200 [02:17<00:00,  1.45it/s]\n",
            "  0%|          | 0/25 [00:00<?, ?it/s]"
          ],
          "name": "stderr"
        },
        {
          "output_type": "stream",
          "text": [
            "Validation:\n"
          ],
          "name": "stdout"
        },
        {
          "output_type": "stream",
          "text": [
            "100%|██████████| 25/25 [00:15<00:00,  1.64it/s]\n",
            "  0%|          | 0/200 [00:00<?, ?it/s]"
          ],
          "name": "stderr"
        },
        {
          "output_type": "stream",
          "text": [
            "==================== Epoch 4 ====================\n",
            "Train Acc: 0.157804 Train Loss: 2.030731\n",
            "  Val Acc: 0.145000   Val Loss: 2.012304\n",
            "Training:\n"
          ],
          "name": "stdout"
        },
        {
          "output_type": "stream",
          "text": [
            "100%|██████████| 200/200 [02:17<00:00,  1.45it/s]\n",
            "  0%|          | 0/25 [00:00<?, ?it/s]"
          ],
          "name": "stderr"
        },
        {
          "output_type": "stream",
          "text": [
            "Validation:\n"
          ],
          "name": "stdout"
        },
        {
          "output_type": "stream",
          "text": [
            "100%|██████████| 25/25 [00:14<00:00,  1.68it/s]\n",
            "  0%|          | 0/200 [00:00<?, ?it/s]"
          ],
          "name": "stderr"
        },
        {
          "output_type": "stream",
          "text": [
            "==================== Epoch 5 ====================\n",
            "Train Acc: 0.182358 Train Loss: 2.010460\n",
            "  Val Acc: 0.221250   Val Loss: 1.991973\n",
            "Training:\n"
          ],
          "name": "stdout"
        },
        {
          "output_type": "stream",
          "text": [
            "100%|██████████| 200/200 [02:17<00:00,  1.46it/s]\n",
            "  0%|          | 0/25 [00:00<?, ?it/s]"
          ],
          "name": "stderr"
        },
        {
          "output_type": "stream",
          "text": [
            "Validation:\n"
          ],
          "name": "stdout"
        },
        {
          "output_type": "stream",
          "text": [
            "100%|██████████| 25/25 [00:15<00:00,  1.66it/s]\n",
            "  0%|          | 0/200 [00:00<?, ?it/s]"
          ],
          "name": "stderr"
        },
        {
          "output_type": "stream",
          "text": [
            "==================== Epoch 6 ====================\n",
            "Train Acc: 0.189553 Train Loss: 1.980107\n",
            "  Val Acc: 0.213750   Val Loss: 1.972837\n",
            "Training:\n"
          ],
          "name": "stdout"
        },
        {
          "output_type": "stream",
          "text": [
            "100%|██████████| 200/200 [02:17<00:00,  1.45it/s]\n",
            "  0%|          | 0/25 [00:00<?, ?it/s]"
          ],
          "name": "stderr"
        },
        {
          "output_type": "stream",
          "text": [
            "Validation:\n"
          ],
          "name": "stdout"
        },
        {
          "output_type": "stream",
          "text": [
            "100%|██████████| 25/25 [00:14<00:00,  1.67it/s]\n",
            "  0%|          | 0/200 [00:00<?, ?it/s]"
          ],
          "name": "stderr"
        },
        {
          "output_type": "stream",
          "text": [
            "==================== Epoch 7 ====================\n",
            "Train Acc: 0.211135 Train Loss: 1.951690\n",
            "  Val Acc: 0.260000   Val Loss: 1.920498\n",
            "Training:\n"
          ],
          "name": "stdout"
        },
        {
          "output_type": "stream",
          "text": [
            "100%|██████████| 200/200 [02:17<00:00,  1.45it/s]\n",
            "  0%|          | 0/25 [00:00<?, ?it/s]"
          ],
          "name": "stderr"
        },
        {
          "output_type": "stream",
          "text": [
            "Validation:\n"
          ],
          "name": "stdout"
        },
        {
          "output_type": "stream",
          "text": [
            "100%|██████████| 25/25 [00:15<00:00,  1.65it/s]\n",
            "  0%|          | 0/200 [00:00<?, ?it/s]"
          ],
          "name": "stderr"
        },
        {
          "output_type": "stream",
          "text": [
            "==================== Epoch 8 ====================\n",
            "Train Acc: 0.217079 Train Loss: 1.937154\n",
            "  Val Acc: 0.221250   Val Loss: 1.946504\n",
            "Training:\n"
          ],
          "name": "stdout"
        },
        {
          "output_type": "stream",
          "text": [
            "100%|██████████| 200/200 [02:17<00:00,  1.45it/s]\n",
            "  0%|          | 0/25 [00:00<?, ?it/s]"
          ],
          "name": "stderr"
        },
        {
          "output_type": "stream",
          "text": [
            "Validation:\n"
          ],
          "name": "stdout"
        },
        {
          "output_type": "stream",
          "text": [
            "100%|██████████| 25/25 [00:15<00:00,  1.64it/s]\n",
            "  0%|          | 0/200 [00:00<?, ?it/s]"
          ],
          "name": "stderr"
        },
        {
          "output_type": "stream",
          "text": [
            "==================== Epoch 9 ====================\n",
            "Train Acc: 0.234126 Train Loss: 1.916232\n",
            "  Val Acc: 0.242500   Val Loss: 1.907966\n",
            "Training:\n"
          ],
          "name": "stdout"
        },
        {
          "output_type": "stream",
          "text": [
            "100%|██████████| 200/200 [02:17<00:00,  1.45it/s]\n",
            "  0%|          | 0/25 [00:00<?, ?it/s]"
          ],
          "name": "stderr"
        },
        {
          "output_type": "stream",
          "text": [
            "Validation:\n"
          ],
          "name": "stdout"
        },
        {
          "output_type": "stream",
          "text": [
            "100%|██████████| 25/25 [00:15<00:00,  1.65it/s]"
          ],
          "name": "stderr"
        },
        {
          "output_type": "stream",
          "text": [
            "==================== Epoch 10 ====================\n",
            "Train Acc: 0.243510 Train Loss: 1.891981\n",
            "  Val Acc: 0.223750   Val Loss: 1.955621\n"
          ],
          "name": "stdout"
        },
        {
          "output_type": "stream",
          "text": [
            "\n"
          ],
          "name": "stderr"
        }
      ]
    },
    {
      "cell_type": "code",
      "metadata": {
        "id": "DjnexSu8wV6_",
        "colab": {
          "base_uri": "https://localhost:8080/",
          "height": 545
        },
        "outputId": "46023b88-1a44-4f1c-ea9d-77767f08efa2"
      },
      "source": [
        "plt.figure(figsize=(12, 4))\n",
        "plt.plot(range(len(train_loss_list)), train_loss_list)\n",
        "plt.plot(range(len(val_loss_list)), val_loss_list, c='r')\n",
        "plt.legend(['train', 'val'])\n",
        "plt.title('Loss')\n",
        "plt.show()\n",
        "plt.figure(figsize=(12, 4))\n",
        "plt.plot(range(len(train_acc_list)), train_acc_list)\n",
        "plt.plot(range(len(val_acc_list)), val_acc_list, c='r')\n",
        "plt.legend(['train', 'val'])\n",
        "plt.title('Acc')\n",
        "plt.show()"
      ],
      "execution_count": null,
      "outputs": [
        {
          "output_type": "display_data",
          "data": {
            "image/png": "[encoded data removed]",
            "text/plain": [
              "<Figure size 864x288 with 1 Axes>"
            ]
          },
          "metadata": {
            "tags": [],
            "needs_background": "light"
          }
        },
        {
          "output_type": "display_data",
          "data": {
            "image/png": "[encoded data removed]",
            "text/plain": [
              "<Figure size 864x288 with 1 Axes>"
            ]
          },
          "metadata": {
            "tags": [],
            "needs_background": "light"
          }
        }
      ]
    },
    {
      "cell_type": "code",
      "metadata": {
        "id": "kowlTw8YNUFu"
      },
      "source": [
        ""
      ],
      "execution_count": null,
      "outputs": []
    }
  ]
}